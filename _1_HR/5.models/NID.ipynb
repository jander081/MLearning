{
 "cells": [
  {
   "cell_type": "markdown",
   "metadata": {},
   "source": [
    "## NID"
   ]
  },
  {
   "cell_type": "code",
   "execution_count": 1,
   "metadata": {},
   "outputs": [],
   "source": [
    "import numpy as np\n",
    "import math\n",
    "import bisect\n",
    "import operator\n",
    "import tensorflow as tf\n",
    "from sklearn.preprocessing import StandardScaler\n"
   ]
  },
  {
   "cell_type": "markdown",
   "metadata": {},
   "source": [
    "Test this with regression using competitor price first"
   ]
  },
  {
   "cell_type": "code",
   "execution_count": 2,
   "metadata": {},
   "outputs": [],
   "source": [
    "use_main_effect_nets = True # toggle this to use \"main effect\" nets"
   ]
  },
  {
   "cell_type": "code",
   "execution_count": 3,
   "metadata": {},
   "outputs": [],
   "source": [
    "# Parameters\n",
    "learning_rate = 0.01\n",
    "num_epochs = 200\n",
    "batch_size = 100\n",
    "display_step = 100\n",
    "l1_const = 5e-5\n",
    "num_samples = 30000 #30k datapoints, split 1/3-1/3-1/3\n",
    "\n",
    "# Network Parameters\n",
    "n_hidden_1 = 140 # 1st layer number of neurons\n",
    "n_hidden_2 = 100 # 2nd layer number of neurons\n",
    "n_hidden_3 = 60 # 3rd \"\n",
    "n_hidden_4 = 20 # 4th \"\n",
    "n_hidden_uni = 10\n",
    "num_input = 10 # simple synthetic example input dimension\n",
    "num_output = 1 # regression or classification output dimension\n",
    "\n",
    "# tf Graph input\n",
    "X = tf.placeholder(\"float\", [None, num_input])\n",
    "Y = tf.placeholder(\"float\", [None, num_output])\n",
    "\n",
    "tf.set_random_seed(81)\n",
    "np.random.seed(81)\n"
   ]
  },
  {
   "cell_type": "code",
   "execution_count": 4,
   "metadata": {},
   "outputs": [],
   "source": [
    "# access weights & biases\n",
    "weights = {\n",
    "    'h1': tf.Variable(tf.truncated_normal([num_input, n_hidden_1], 0, 0.1)),\n",
    "    'h2': tf.Variable(tf.truncated_normal([n_hidden_1, n_hidden_2], 0, 0.1)),\n",
    "    'h3': tf.Variable(tf.truncated_normal([n_hidden_2, n_hidden_3], 0, 0.1)),\n",
    "    'h4': tf.Variable(tf.truncated_normal([n_hidden_3, n_hidden_4], 0, 0.1)),\n",
    "    'out': tf.Variable(tf.truncated_normal([n_hidden_4, num_output], 0, 0.1))\n",
    "}\n",
    "biases = {\n",
    "    'b1': tf.Variable(tf.truncated_normal([n_hidden_1], 0, 0.1)),\n",
    "    'b2': tf.Variable(tf.truncated_normal([n_hidden_2], 0, 0.1)),\n",
    "    'b3': tf.Variable(tf.truncated_normal([n_hidden_3], 0, 0.1)),\n",
    "    'b4': tf.Variable(tf.truncated_normal([n_hidden_4], 0, 0.1)),\n",
    "    'out': tf.Variable(tf.truncated_normal([num_output], 0, 0.1))\n",
    "}\n",
    "\n",
    "def get_weights_uninet():\n",
    "    weights = {\n",
    "        'h1': tf.Variable(tf.truncated_normal([1, n_hidden_uni], 0, 0.1)),\n",
    "        'h2': tf.Variable(tf.truncated_normal([n_hidden_uni, n_hidden_uni], 0, 0.1)),\n",
    "        'h3': tf.Variable(tf.truncated_normal([n_hidden_uni, n_hidden_uni], 0, 0.1)),\n",
    "        'out': tf.Variable(tf.truncated_normal([n_hidden_uni, num_output], 0, 0.1))\n",
    "    }\n",
    "    return weights\n",
    "\n",
    "def get_biases_uninet():\n",
    "    biases = {\n",
    "        'b1': tf.Variable(tf.truncated_normal([n_hidden_uni], 0, 0.1)),\n",
    "        'b2': tf.Variable(tf.truncated_normal([n_hidden_uni], 0, 0.1)),\n",
    "        'b3': tf.Variable(tf.truncated_normal([n_hidden_uni], 0, 0.1))\n",
    "    }\n",
    "    return biases\n"
   ]
  },
  {
   "cell_type": "code",
   "execution_count": 6,
   "metadata": {},
   "outputs": [],
   "source": [
    "# Create model\n",
    "def normal_neural_net(x, weights, biases):\n",
    "    layer_1 = tf.nn.relu(tf.add(tf.matmul(x, weights['h1']), biases['b1']))\n",
    "    layer_2 = tf.nn.relu(tf.add(tf.matmul(layer_1, weights['h2']), biases['b2']))\n",
    "    layer_3 = tf.nn.relu(tf.add(tf.matmul(layer_2, weights['h3']), biases['b3']))\n",
    "    layer_4 = tf.nn.relu(tf.add(tf.matmul(layer_3, weights['h4']), biases['b4']))    \n",
    "    out_layer = tf.matmul(layer_4, weights['out']) + biases['out']\n",
    "    return out_layer\n",
    "\n",
    "def main_effect_net(x, weights, biases):\n",
    "    layer_1 = tf.nn.relu(tf.add(tf.matmul(x, weights['h1']), biases['b1']))\n",
    "    layer_2 = tf.nn.relu(tf.add(tf.matmul(layer_1, weights['h2']), biases['b2']))\n",
    "    layer_3 = tf.nn.relu(tf.add(tf.matmul(layer_2, weights['h3']), biases['b3']))    \n",
    "    out_layer = tf.matmul(layer_3, weights['out'])\n",
    "    return out_layer\n",
    "\n",
    "# L1 regularizer\n",
    "def l1_norm(a): \n",
    "    return tf.reduce_sum(tf.abs(a))\n"
   ]
  },
  {
   "cell_type": "code",
   "execution_count": 7,
   "metadata": {},
   "outputs": [
    {
     "ename": "NameError",
     "evalue": "name 'tr_size' is not defined",
     "output_type": "error",
     "traceback": [
      "\u001b[1;31m---------------------------------------------------------------------------\u001b[0m",
      "\u001b[1;31mNameError\u001b[0m                                 Traceback (most recent call last)",
      "\u001b[1;32m<ipython-input-7-3369fa76eb5a>\u001b[0m in \u001b[0;36m<module>\u001b[1;34m()\u001b[0m\n\u001b[0;32m     16\u001b[0m \u001b[1;33m\u001b[0m\u001b[0m\n\u001b[0;32m     17\u001b[0m \u001b[0mbatch\u001b[0m \u001b[1;33m=\u001b[0m \u001b[0mtf\u001b[0m\u001b[1;33m.\u001b[0m\u001b[0mVariable\u001b[0m\u001b[1;33m(\u001b[0m\u001b[1;36m0\u001b[0m\u001b[1;33m)\u001b[0m\u001b[1;33m\u001b[0m\u001b[0m\n\u001b[1;32m---> 18\u001b[1;33m \u001b[0mdecaying_learning_rate\u001b[0m \u001b[1;33m=\u001b[0m \u001b[0mtf\u001b[0m\u001b[1;33m.\u001b[0m\u001b[0mtrain\u001b[0m\u001b[1;33m.\u001b[0m\u001b[0mexponential_decay\u001b[0m\u001b[1;33m(\u001b[0m\u001b[0mlearning_rate\u001b[0m\u001b[1;33m,\u001b[0m \u001b[0mbatch\u001b[0m\u001b[1;33m*\u001b[0m\u001b[0mbatch_size\u001b[0m\u001b[1;33m,\u001b[0m \u001b[0mtr_size\u001b[0m\u001b[1;33m,\u001b[0m \u001b[1;36m0.95\u001b[0m\u001b[1;33m,\u001b[0m \u001b[0mstaircase\u001b[0m\u001b[1;33m=\u001b[0m\u001b[1;32mTrue\u001b[0m\u001b[1;33m)\u001b[0m\u001b[1;33m\u001b[0m\u001b[0m\n\u001b[0m\u001b[0;32m     19\u001b[0m \u001b[0moptimizer\u001b[0m \u001b[1;33m=\u001b[0m \u001b[0mtf\u001b[0m\u001b[1;33m.\u001b[0m\u001b[0mtrain\u001b[0m\u001b[1;33m.\u001b[0m\u001b[0mAdamOptimizer\u001b[0m\u001b[1;33m(\u001b[0m\u001b[0mlearning_rate\u001b[0m\u001b[1;33m=\u001b[0m\u001b[0mdecaying_learning_rate\u001b[0m\u001b[1;33m)\u001b[0m\u001b[1;33m.\u001b[0m\u001b[0mminimize\u001b[0m\u001b[1;33m(\u001b[0m\u001b[0mloss_w_reg_op\u001b[0m\u001b[1;33m,\u001b[0m \u001b[0mglobal_step\u001b[0m\u001b[1;33m=\u001b[0m\u001b[0mbatch\u001b[0m\u001b[1;33m)\u001b[0m\u001b[1;33m\u001b[0m\u001b[0m\n",
      "\u001b[1;31mNameError\u001b[0m: name 'tr_size' is not defined"
     ]
    }
   ],
   "source": [
    "# Construct model\n",
    "net = normal_neural_net(X, weights, biases)\n",
    "\n",
    "if use_main_effect_nets:  \n",
    "    me_nets = []\n",
    "    for x_i in range(num_input):\n",
    "        me_net = main_effect_net(tf.expand_dims(X[:,x_i],1), get_weights_uninet(), get_biases_uninet())\n",
    "        me_nets.append(me_net)\n",
    "    net = net + sum(me_nets)\n",
    "\n",
    "# Define optimizer\n",
    "loss_op = tf.losses.mean_squared_error(labels=Y, predictions=net)\n",
    "# loss_op = tf.sigmoid_cross_entropy_with_logits(labels=Y,logits=net) # use this in the case of binary classification\n",
    "sum_l1 = tf.reduce_sum([l1_norm(weights[k]) for k in weights])\n",
    "loss_w_reg_op = loss_op + l1_const*sum_l1 \n",
    "\n",
    "batch = tf.Variable(0)\n",
    "decaying_learning_rate = tf.train.exponential_decay(learning_rate, batch*batch_size, tr_size, 0.95, staircase=True)\n",
    "optimizer = tf.train.AdamOptimizer(learning_rate=decaying_learning_rate).minimize(loss_w_reg_op, global_step=batch)\n"
   ]
  },
  {
   "cell_type": "code",
   "execution_count": null,
   "metadata": {},
   "outputs": [],
   "source": []
  }
 ],
 "metadata": {
  "kernelspec": {
   "display_name": "Python 3 (base)",
   "language": "python",
   "name": "python3"
  },
  "language_info": {
   "codemirror_mode": {
    "name": "ipython",
    "version": 3
   },
   "file_extension": ".py",
   "mimetype": "text/x-python",
   "name": "python",
   "nbconvert_exporter": "python",
   "pygments_lexer": "ipython3",
   "version": "3.6.8"
  }
 },
 "nbformat": 4,
 "nbformat_minor": 2
}
