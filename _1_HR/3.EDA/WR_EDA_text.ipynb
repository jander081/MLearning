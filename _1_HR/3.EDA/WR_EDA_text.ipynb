{
 "cells": [
  {
   "cell_type": "markdown",
   "metadata": {},
   "source": [
    "## Feature selection: text"
   ]
  },
  {
   "cell_type": "code",
   "execution_count": 2,
   "metadata": {},
   "outputs": [
    {
     "name": "stderr",
     "output_type": "stream",
     "text": [
      "/Users/jacob/anaconda3/envs/DL/lib/python3.6/importlib/_bootstrap.py:219: RuntimeWarning: numpy.dtype size changed, may indicate binary incompatibility. Expected 96, got 88\n",
      "  return f(*args, **kwds)\n",
      "/Users/jacob/anaconda3/envs/DL/lib/python3.6/importlib/_bootstrap.py:219: RuntimeWarning: numpy.dtype size changed, may indicate binary incompatibility. Expected 96, got 88\n",
      "  return f(*args, **kwds)\n",
      "/Users/jacob/anaconda3/envs/DL/lib/python3.6/site-packages/sklearn/ensemble/weight_boosting.py:29: DeprecationWarning: numpy.core.umath_tests is an internal NumPy module and should not be imported. It will be removed in a future NumPy release.\n",
      "  from numpy.core.umath_tests import inner1d\n"
     ]
    }
   ],
   "source": [
    "import pandas as pd\n",
    "import numpy as np\n",
    "import seaborn as sns\n",
    "import matplotlib.pyplot as plt\n",
    "%matplotlib inline\n",
    "\n",
    "from sklearn.ensemble import ExtraTreesClassifier\n",
    "from sklearn.metrics import accuracy_score, confusion_matrix, classification_report, log_loss\n",
    "from sklearn.ensemble import RandomForestClassifier\n",
    "from sklearn.model_selection import train_test_split, cross_val_score, cross_val_predict\n",
    "from sklearn.feature_selection import SelectFromModel\n",
    "\n",
    "import os\n",
    "#os.environ[\"PATH\"] += os.pathsep + 'C:\\\\Users\\\\jander33\\\\Desktop\\\\project_5\\\\programs\\\\graphviz\\\\bin'\n",
    "\n",
    "\n",
    "import sys\n",
    "\n",
    "sys.path.append('../code/quickpipeline')\n",
    "sys.path.append('../code/cleaners')\n",
    "sys.path.append('../code/features')\n",
    "#sys.path.append(r'C:\\\\Users\\\\jander33\\\\Desktop\\\\project_5\\\\programs')\n",
    "#sys.path.append(r'C:\\Miniconda3\\envs\\tf\\Lib\\site-packages')\n",
    "#print(sys.path)\n",
    "\n",
    "\n",
    "from quickpipeline import QuickPipeline\n",
    "from J_cleaner import *\n",
    "from j_features import *\n",
    "\n",
    "pd.set_option('display.max_rows', 500)\n",
    "pd.set_option('display.max_columns', 500)"
   ]
  },
  {
   "cell_type": "code",
   "execution_count": 3,
   "metadata": {},
   "outputs": [],
   "source": [
    "df = pd.read_csv('../data/processed2/class_dfs/WR_27_w2v.csv')\n",
    "df.drop(['Unnamed: 0'], axis = 1, inplace = True)"
   ]
  },
  {
   "cell_type": "code",
   "execution_count": 4,
   "metadata": {},
   "outputs": [],
   "source": [
    "data = pd.read_csv('../data/processed2/WR_27_p2.csv')\n",
    "data.drop(['Unnamed: 0'], axis = 1, inplace = True)"
   ]
  },
  {
   "cell_type": "code",
   "execution_count": 5,
   "metadata": {},
   "outputs": [],
   "source": [
    "w2v = df[['Prime', 'Competitor', 'Program', 'mstr_agt_cd', \n",
    "          'pri_agt_cd', 'sub_agt_cd', 'insured_zip_cd']]\n"
   ]
  },
  {
   "cell_type": "code",
   "execution_count": 6,
   "metadata": {},
   "outputs": [],
   "source": [
    "df.drop(['SAI', 'Policy_num', 'pri_agt_cd'], axis=1, inplace=True)"
   ]
  },
  {
   "cell_type": "code",
   "execution_count": 7,
   "metadata": {},
   "outputs": [],
   "source": [
    "y = data[['TRV.Win']]\n",
    "\n",
    "#y['TRV.Win'].value_counts()"
   ]
  },
  {
   "cell_type": "code",
   "execution_count": 8,
   "metadata": {},
   "outputs": [],
   "source": [
    "#j_factors('insured_zip_cd', df, 20) # over 1k: prime, mstr, sub, zip"
   ]
  },
  {
   "cell_type": "markdown",
   "metadata": {},
   "source": [
    "### Freq features"
   ]
  },
  {
   "cell_type": "code",
   "execution_count": 9,
   "metadata": {},
   "outputs": [],
   "source": [
    "#Competitor\n",
    "prog_dict = make_dict('Competitor', df)\n",
    "df['comp_freq'] = df['Competitor'].map(prog_dict)\n",
    "\n",
    "df['Comp_rev'] = df['comp_freq'].apply(lambda x: freq_group(x, prog_dict, 10, 50, 100))\n",
    "df.drop(['Competitor'], axis=1, inplace=True)"
   ]
  },
  {
   "cell_type": "code",
   "execution_count": 10,
   "metadata": {},
   "outputs": [],
   "source": [
    "#Program\n",
    "prog_dict = make_dict('Program', df)\n",
    "df['program_freq'] = df['Program'].map(prog_dict)\n",
    "\n",
    "df['program_rev'] = df['program_freq'].apply(lambda x: freq_group(x, prog_dict, 20, 80, 150))\n",
    "df.drop(['Program'], axis=1, inplace=True)"
   ]
  },
  {
   "cell_type": "code",
   "execution_count": 11,
   "metadata": {},
   "outputs": [],
   "source": [
    "#df['program_rev'].value_counts()"
   ]
  },
  {
   "cell_type": "code",
   "execution_count": 12,
   "metadata": {},
   "outputs": [],
   "source": [
    "#prime\n",
    "prime_dict = make_dict('Prime', df)\n",
    "df['prime_freq'] = df['Prime'].map(prime_dict)\n",
    "df.drop(['Prime'], axis=1, inplace=True)"
   ]
  },
  {
   "cell_type": "code",
   "execution_count": 13,
   "metadata": {},
   "outputs": [],
   "source": [
    "#mstr_agt_cd\n",
    "mstr_dict = make_dict('mstr_agt_cd', df)\n",
    "df['mstr_freq'] = df['mstr_agt_cd'].map(mstr_dict)\n",
    "df.drop(['mstr_agt_cd'], axis=1, inplace=True)"
   ]
  },
  {
   "cell_type": "code",
   "execution_count": 14,
   "metadata": {},
   "outputs": [],
   "source": [
    "#sub_agt_cd\n",
    "sub_dict = make_dict('sub_agt_cd', df)\n",
    "df['sub_freq'] = df['sub_agt_cd'].map(sub_dict)\n",
    "df.drop(['sub_agt_cd'], axis=1, inplace=True)"
   ]
  },
  {
   "cell_type": "code",
   "execution_count": 15,
   "metadata": {},
   "outputs": [],
   "source": [
    "#insured_zip_cd\n",
    "zip_dict = make_dict('insured_zip_cd', df)\n",
    "df['zip_freq'] = df['insured_zip_cd'].map(zip_dict)\n",
    "df.drop(['insured_zip_cd'], axis=1, inplace=True)"
   ]
  },
  {
   "cell_type": "markdown",
   "metadata": {},
   "source": [
    "### W2V feature"
   ]
  },
  {
   "cell_type": "code",
   "execution_count": 16,
   "metadata": {},
   "outputs": [
    {
     "name": "stderr",
     "output_type": "stream",
     "text": [
      "/Users/jacob/anaconda3/envs/DL/lib/python3.6/importlib/_bootstrap.py:219: RuntimeWarning: numpy.dtype size changed, may indicate binary incompatibility. Expected 96, got 88\n",
      "  return f(*args, **kwds)\n",
      "/Users/jacob/anaconda3/envs/DL/lib/python3.6/site-packages/h5py/__init__.py:36: FutureWarning: Conversion of the second argument of issubdtype from `float` to `np.floating` is deprecated. In future, it will be treated as `np.float64 == np.dtype(float).type`.\n",
      "  from ._conv import register_converters as _register_converters\n",
      "Using TensorFlow backend.\n"
     ]
    }
   ],
   "source": [
    "from keras.preprocessing.sequence import pad_sequences\n",
    "from keras.preprocessing import sequence\n",
    "\n",
    "from keras.preprocessing.text import Tokenizer\n"
   ]
  },
  {
   "cell_type": "code",
   "execution_count": 17,
   "metadata": {},
   "outputs": [],
   "source": [
    "w2v = w2v.astype(str)\n",
    "junk = w2v.apply(lambda x: ' '.join(x), axis=1)"
   ]
  },
  {
   "cell_type": "code",
   "execution_count": 18,
   "metadata": {},
   "outputs": [],
   "source": [
    "token = Tokenizer()\n",
    "token.fit_on_texts(junk)\n",
    "sequences = token.texts_to_sequences(junk) # list\n",
    "#word_index = token.word_index # type = dict\n",
    "w2v_matrix = pad_sequences(sequences, maxlen = None) "
   ]
  },
  {
   "cell_type": "code",
   "execution_count": 19,
   "metadata": {},
   "outputs": [
    {
     "name": "stderr",
     "output_type": "stream",
     "text": [
      "/Users/jacob/anaconda3/envs/DL/lib/python3.6/importlib/_bootstrap.py:219: RuntimeWarning: numpy.dtype size changed, may indicate binary incompatibility. Expected 96, got 88\n",
      "  return f(*args, **kwds)\n"
     ]
    }
   ],
   "source": [
    "from sklearn.decomposition import PCA\n",
    "\n",
    "pca = PCA(n_components=1)\n",
    "pca.fit(w2v_matrix)\n",
    "w2v_feat = pca.transform(w2v_matrix)"
   ]
  },
  {
   "cell_type": "code",
   "execution_count": 20,
   "metadata": {},
   "outputs": [
    {
     "data": {
      "text/html": [
       "<div>\n",
       "<style scoped>\n",
       "    .dataframe tbody tr th:only-of-type {\n",
       "        vertical-align: middle;\n",
       "    }\n",
       "\n",
       "    .dataframe tbody tr th {\n",
       "        vertical-align: top;\n",
       "    }\n",
       "\n",
       "    .dataframe thead th {\n",
       "        text-align: right;\n",
       "    }\n",
       "</style>\n",
       "<table border=\"1\" class=\"dataframe\">\n",
       "  <thead>\n",
       "    <tr style=\"text-align: right;\">\n",
       "      <th></th>\n",
       "      <th>comp_freq</th>\n",
       "      <th>Comp_rev</th>\n",
       "      <th>program_freq</th>\n",
       "      <th>program_rev</th>\n",
       "      <th>prime_freq</th>\n",
       "      <th>mstr_freq</th>\n",
       "      <th>sub_freq</th>\n",
       "      <th>zip_freq</th>\n",
       "    </tr>\n",
       "  </thead>\n",
       "  <tbody>\n",
       "    <tr>\n",
       "      <th>0</th>\n",
       "      <td>183</td>\n",
       "      <td>Harleysville</td>\n",
       "      <td>617</td>\n",
       "      <td>RESTAURANT ORIENTAL-FAMILY STY</td>\n",
       "      <td>32</td>\n",
       "      <td>32</td>\n",
       "      <td>32</td>\n",
       "      <td>12</td>\n",
       "    </tr>\n",
       "    <tr>\n",
       "      <th>1</th>\n",
       "      <td>8398</td>\n",
       "      <td>Other</td>\n",
       "      <td>1475</td>\n",
       "      <td>BLDG PAC MERCANTILE OTHER</td>\n",
       "      <td>4</td>\n",
       "      <td>4</td>\n",
       "      <td>4</td>\n",
       "      <td>6</td>\n",
       "    </tr>\n",
       "    <tr>\n",
       "      <th>2</th>\n",
       "      <td>5535</td>\n",
       "      <td>Hartford</td>\n",
       "      <td>557</td>\n",
       "      <td>OFC PAC DENTISTS</td>\n",
       "      <td>24</td>\n",
       "      <td>24</td>\n",
       "      <td>12</td>\n",
       "      <td>5</td>\n",
       "    </tr>\n",
       "    <tr>\n",
       "      <th>3</th>\n",
       "      <td>1015</td>\n",
       "      <td>Liberty Mutual</td>\n",
       "      <td>314</td>\n",
       "      <td>OFC PAC CHIROPRACTORS</td>\n",
       "      <td>5</td>\n",
       "      <td>5</td>\n",
       "      <td>5</td>\n",
       "      <td>2</td>\n",
       "    </tr>\n",
       "    <tr>\n",
       "      <th>4</th>\n",
       "      <td>538</td>\n",
       "      <td>Cincinnati</td>\n",
       "      <td>466</td>\n",
       "      <td>APART PAC BLDG 1-4 UNITS</td>\n",
       "      <td>8</td>\n",
       "      <td>33</td>\n",
       "      <td>8</td>\n",
       "      <td>5</td>\n",
       "    </tr>\n",
       "  </tbody>\n",
       "</table>\n",
       "</div>"
      ],
      "text/plain": [
       "   comp_freq        Comp_rev  program_freq                     program_rev  \\\n",
       "0        183    Harleysville           617  RESTAURANT ORIENTAL-FAMILY STY   \n",
       "1       8398           Other          1475       BLDG PAC MERCANTILE OTHER   \n",
       "2       5535        Hartford           557                OFC PAC DENTISTS   \n",
       "3       1015  Liberty Mutual           314           OFC PAC CHIROPRACTORS   \n",
       "4        538      Cincinnati           466        APART PAC BLDG 1-4 UNITS   \n",
       "\n",
       "   prime_freq  mstr_freq  sub_freq  zip_freq  \n",
       "0          32         32        32        12  \n",
       "1           4          4         4         6  \n",
       "2          24         24        12         5  \n",
       "3           5          5         5         2  \n",
       "4           8         33         8         5  "
      ]
     },
     "execution_count": 20,
     "metadata": {},
     "output_type": "execute_result"
    }
   ],
   "source": [
    "df.head()"
   ]
  },
  {
   "cell_type": "code",
   "execution_count": 21,
   "metadata": {},
   "outputs": [],
   "source": [
    "compare = df[['prime_freq', 'mstr_freq', 'sub_freq']]\n",
    "#compare.head(4) # NOT EQUAL. Consider new indicator feature\n",
    "comp_pca = PCA(n_components=1)\n",
    "comp_pca.fit(compare)\n",
    "merge_freq = comp_pca.transform(compare)\n",
    "merge_freq = pd.DataFrame(merge_freq).rename(columns={0:'merge_freq'}, inplace=False)"
   ]
  },
  {
   "cell_type": "code",
   "execution_count": 22,
   "metadata": {},
   "outputs": [],
   "source": [
    "df_f = pd.concat([df, pd.DataFrame(w2v_feat), merge_freq], axis=1)\n",
    "df_f.rename(columns={0:'w2v'}, inplace=True)\n",
    "df_f.drop(['prime_freq', 'mstr_freq', 'sub_freq'], axis=1, inplace=True)"
   ]
  },
  {
   "cell_type": "code",
   "execution_count": 23,
   "metadata": {},
   "outputs": [
    {
     "data": {
      "text/html": [
       "<div>\n",
       "<style scoped>\n",
       "    .dataframe tbody tr th:only-of-type {\n",
       "        vertical-align: middle;\n",
       "    }\n",
       "\n",
       "    .dataframe tbody tr th {\n",
       "        vertical-align: top;\n",
       "    }\n",
       "\n",
       "    .dataframe thead th {\n",
       "        text-align: right;\n",
       "    }\n",
       "</style>\n",
       "<table border=\"1\" class=\"dataframe\">\n",
       "  <thead>\n",
       "    <tr style=\"text-align: right;\">\n",
       "      <th></th>\n",
       "      <th>comp_freq</th>\n",
       "      <th>Comp_rev</th>\n",
       "      <th>program_freq</th>\n",
       "      <th>program_rev</th>\n",
       "      <th>zip_freq</th>\n",
       "      <th>w2v</th>\n",
       "      <th>merge_freq</th>\n",
       "    </tr>\n",
       "  </thead>\n",
       "  <tbody>\n",
       "    <tr>\n",
       "      <th>0</th>\n",
       "      <td>183</td>\n",
       "      <td>Harleysville</td>\n",
       "      <td>617</td>\n",
       "      <td>RESTAURANT ORIENTAL-FAMILY STY</td>\n",
       "      <td>12</td>\n",
       "      <td>-6984.914649</td>\n",
       "      <td>-11.623214</td>\n",
       "    </tr>\n",
       "    <tr>\n",
       "      <th>1</th>\n",
       "      <td>8398</td>\n",
       "      <td>Other</td>\n",
       "      <td>1475</td>\n",
       "      <td>BLDG PAC MERCANTILE OTHER</td>\n",
       "      <td>6</td>\n",
       "      <td>-1742.116249</td>\n",
       "      <td>-46.476093</td>\n",
       "    </tr>\n",
       "    <tr>\n",
       "      <th>2</th>\n",
       "      <td>5535</td>\n",
       "      <td>Hartford</td>\n",
       "      <td>557</td>\n",
       "      <td>OFC PAC DENTISTS</td>\n",
       "      <td>5</td>\n",
       "      <td>-3092.077452</td>\n",
       "      <td>-23.058982</td>\n",
       "    </tr>\n",
       "    <tr>\n",
       "      <th>3</th>\n",
       "      <td>1015</td>\n",
       "      <td>Liberty Mutual</td>\n",
       "      <td>314</td>\n",
       "      <td>OFC PAC CHIROPRACTORS</td>\n",
       "      <td>2</td>\n",
       "      <td>1857.401941</td>\n",
       "      <td>-45.231347</td>\n",
       "    </tr>\n",
       "    <tr>\n",
       "      <th>4</th>\n",
       "      <td>538</td>\n",
       "      <td>Cincinnati</td>\n",
       "      <td>466</td>\n",
       "      <td>APART PAC BLDG 1-4 UNITS</td>\n",
       "      <td>5</td>\n",
       "      <td>-1526.314010</td>\n",
       "      <td>-16.931939</td>\n",
       "    </tr>\n",
       "  </tbody>\n",
       "</table>\n",
       "</div>"
      ],
      "text/plain": [
       "   comp_freq        Comp_rev  program_freq                     program_rev  \\\n",
       "0        183    Harleysville           617  RESTAURANT ORIENTAL-FAMILY STY   \n",
       "1       8398           Other          1475       BLDG PAC MERCANTILE OTHER   \n",
       "2       5535        Hartford           557                OFC PAC DENTISTS   \n",
       "3       1015  Liberty Mutual           314           OFC PAC CHIROPRACTORS   \n",
       "4        538      Cincinnati           466        APART PAC BLDG 1-4 UNITS   \n",
       "\n",
       "   zip_freq          w2v  merge_freq  \n",
       "0        12 -6984.914649  -11.623214  \n",
       "1         6 -1742.116249  -46.476093  \n",
       "2         5 -3092.077452  -23.058982  \n",
       "3         2  1857.401941  -45.231347  \n",
       "4         5 -1526.314010  -16.931939  "
      ]
     },
     "execution_count": 23,
     "metadata": {},
     "output_type": "execute_result"
    }
   ],
   "source": [
    "df_f.head()"
   ]
  },
  {
   "cell_type": "markdown",
   "metadata": {},
   "source": [
    "### Feature selection with XG BOOST"
   ]
  },
  {
   "cell_type": "code",
   "execution_count": 24,
   "metadata": {},
   "outputs": [],
   "source": [
    "from xgboost import XGBClassifier\n",
    "from xgboost import plot_importance, plot_tree, to_graphviz"
   ]
  },
  {
   "cell_type": "code",
   "execution_count": 25,
   "metadata": {},
   "outputs": [
    {
     "name": "stderr",
     "output_type": "stream",
     "text": [
      "/Users/jacob/anaconda3/envs/DL/lib/python3.6/site-packages/sklearn/preprocessing/label.py:151: DeprecationWarning: The truth value of an empty array is ambiguous. Returning False, but in future this will result in an error. Use `array.size > 0` to check that an array is not empty.\n",
      "  if diff:\n",
      "/Users/jacob/anaconda3/envs/DL/lib/python3.6/site-packages/sklearn/preprocessing/label.py:151: DeprecationWarning: The truth value of an empty array is ambiguous. Returning False, but in future this will result in an error. Use `array.size > 0` to check that an array is not empty.\n",
      "  if diff:\n",
      "/Users/jacob/anaconda3/envs/DL/lib/python3.6/site-packages/sklearn/preprocessing/label.py:151: DeprecationWarning: The truth value of an empty array is ambiguous. Returning False, but in future this will result in an error. Use `array.size > 0` to check that an array is not empty.\n",
      "  if diff:\n",
      "/Users/jacob/anaconda3/envs/DL/lib/python3.6/site-packages/sklearn/preprocessing/label.py:151: DeprecationWarning: The truth value of an empty array is ambiguous. Returning False, but in future this will result in an error. Use `array.size > 0` to check that an array is not empty.\n",
      "  if diff:\n"
     ]
    },
    {
     "name": "stdout",
     "output_type": "stream",
     "text": [
      "[0.713752   0.71980075 0.71410781 0.713752   0.71179505]\n"
     ]
    },
    {
     "name": "stderr",
     "output_type": "stream",
     "text": [
      "/Users/jacob/anaconda3/envs/DL/lib/python3.6/site-packages/sklearn/preprocessing/label.py:151: DeprecationWarning: The truth value of an empty array is ambiguous. Returning False, but in future this will result in an error. Use `array.size > 0` to check that an array is not empty.\n",
      "  if diff:\n"
     ]
    }
   ],
   "source": [
    "pipeline = QuickPipeline(categorical_features=None) \n",
    "X = pipeline.fit_transform(df_f) \n",
    "y_ = np.ravel(y)\n",
    "\n",
    "model = XGBClassifier(max_depth=5,\n",
    "                      min_child_weight=20,\n",
    "                      colsample_bytree=0.7,\n",
    "                      gamma=0.1,\n",
    "                      reg_alpha=0.1,\n",
    "                      reg_lambda=0.1,\n",
    "                      max_delta_step=1)\n",
    "model.fit(X, y_)\n",
    "\n",
    "\n",
    "scores = cross_val_score(model, X, y_, cv=5)\n",
    "print(scores)  \n"
   ]
  },
  {
   "cell_type": "code",
   "execution_count": 26,
   "metadata": {},
   "outputs": [
    {
     "name": "stdout",
     "output_type": "stream",
     "text": [
      "Feature ranking:\n",
      "1. Feature: w2v  with weight: 0.193771630525589\n",
      "2. Feature: merge_freq  with weight: 0.17024222016334534\n",
      "3. Feature: program_freq  with weight: 0.13771626353263855\n",
      "4. Feature: zip_freq  with weight: 0.08581314980983734\n",
      "5. Feature: comp_freq  with weight: 0.08373702317476273\n",
      "6. Feature: program_rev_CONSULTANTS - MANAGEMENT  with weight: 0.02006920427083969\n",
      "7. Feature: program_rev_STORE PAC CONVENIENCE STORE W  with weight: 0.01660899631679058\n",
      "8. Feature: program_rev_OFC PAC LAWYERS  with weight: 0.015224913135170937\n",
      "9. Feature: program_rev_BLDG PAC APART INCIDENTAL MERC  with weight: 0.014532871544361115\n",
      "10. Feature: Comp_rev_Hartford  with weight: 0.0117647061124444\n"
     ]
    }
   ],
   "source": [
    "importances = model.feature_importances_\n",
    "indices = np.argsort(importances)[::-1][:10]\n",
    "# Print the feature ranking\n",
    "\n",
    "print(\"Feature ranking:\")\n",
    "\n",
    "for i in range(0, len(indices)):\n",
    "    print('{}. Feature: {}  with weight: {}'.format(i + 1, X.columns[indices[i]], importances[indices[i]]))\n"
   ]
  },
  {
   "cell_type": "code",
   "execution_count": 27,
   "metadata": {},
   "outputs": [
    {
     "data": {
      "image/png": "[encoded data removed]",
      "text/plain": [
       "<matplotlib.figure.Figure at 0x1a2fa49828>"
      ]
     },
     "metadata": {},
     "output_type": "display_data"
    }
   ],
   "source": [
    "# plot feature importance\n",
    "plot_importance(model, max_num_features=20)\n",
    "plt.show()\n"
   ]
  },
  {
   "cell_type": "code",
   "execution_count": 28,
   "metadata": {},
   "outputs": [],
   "source": [
    "#plot_tree(model, num_trees=0, rankdir='UT', ax=None)"
   ]
  },
  {
   "cell_type": "code",
   "execution_count": 29,
   "metadata": {},
   "outputs": [],
   "source": [
    "#to_graphviz(model, num_trees=0, rankdir='UT', yes_color='#0000FF', no_color='#FF0000')"
   ]
  },
  {
   "cell_type": "code",
   "execution_count": 30,
   "metadata": {},
   "outputs": [
    {
     "data": {
      "text/plain": [
       "(28105, 78)"
      ]
     },
     "execution_count": 30,
     "metadata": {},
     "output_type": "execute_result"
    }
   ],
   "source": [
    "X.shape"
   ]
  },
  {
   "cell_type": "code",
   "execution_count": 31,
   "metadata": {},
   "outputs": [],
   "source": [
    "# manually select features IOT preserve column names\n",
    "indices = np.argsort(importances)[::-1][:35]\n",
    "feat_top = X.columns[indices][0:35]\n",
    "text_df = X[feat_top]\n"
   ]
  },
  {
   "cell_type": "code",
   "execution_count": null,
   "metadata": {},
   "outputs": [],
   "source": [
    "# model_re = SelectFromModel(model, threshold='0.5*mean', prefit=True)\n",
    "# feature_idx = model_re.get_support()\n",
    "# feature_name = df_f.columns[feature_idx]\n",
    "# X_re = model_re.transform(X)\n",
    "# text_df = pd.DataFrame(X_re) \n",
    "# text_df.shape"
   ]
  },
  {
   "cell_type": "code",
   "execution_count": 32,
   "metadata": {},
   "outputs": [],
   "source": [
    "\n",
    "text_df.to_csv('../data/processed3/text_df.csv', index=False)"
   ]
  },
  {
   "cell_type": "code",
   "execution_count": 33,
   "metadata": {},
   "outputs": [
    {
     "ename": "ModuleNotFoundError",
     "evalue": "No module named 'graphviz'",
     "output_type": "error",
     "traceback": [
      "\u001b[0;31m---------------------------------------------------------------------------\u001b[0m",
      "\u001b[0;31mModuleNotFoundError\u001b[0m                       Traceback (most recent call last)",
      "\u001b[0;32m<ipython-input-33-660b9acaf83d>\u001b[0m in \u001b[0;36m<module>\u001b[0;34m()\u001b[0m\n\u001b[1;32m      1\u001b[0m \u001b[0;32mfrom\u001b[0m \u001b[0msklearn\u001b[0m \u001b[0;32mimport\u001b[0m \u001b[0mtree\u001b[0m\u001b[0;34m\u001b[0m\u001b[0m\n\u001b[1;32m      2\u001b[0m \u001b[0;32mfrom\u001b[0m \u001b[0msklearn\u001b[0m\u001b[0;34m.\u001b[0m\u001b[0mtree\u001b[0m \u001b[0;32mimport\u001b[0m \u001b[0mDecisionTreeClassifier\u001b[0m\u001b[0;34m\u001b[0m\u001b[0m\n\u001b[0;32m----> 3\u001b[0;31m \u001b[0;32mimport\u001b[0m \u001b[0mgraphviz\u001b[0m\u001b[0;34m\u001b[0m\u001b[0m\n\u001b[0m\u001b[1;32m      4\u001b[0m \u001b[0mclf\u001b[0m \u001b[0;34m=\u001b[0m \u001b[0mtree\u001b[0m\u001b[0;34m.\u001b[0m\u001b[0mDecisionTreeClassifier\u001b[0m\u001b[0;34m(\u001b[0m\u001b[0mmax_depth\u001b[0m\u001b[0;34m=\u001b[0m\u001b[0;36m5\u001b[0m\u001b[0;34m)\u001b[0m \u001b[0;31m#class_weight=\"balanced\")\u001b[0m\u001b[0;34m\u001b[0m\u001b[0m\n\u001b[1;32m      5\u001b[0m \u001b[0mclf\u001b[0m \u001b[0;34m=\u001b[0m \u001b[0mclf\u001b[0m\u001b[0;34m.\u001b[0m\u001b[0mfit\u001b[0m\u001b[0;34m(\u001b[0m\u001b[0mX\u001b[0m\u001b[0;34m,\u001b[0m \u001b[0mnp\u001b[0m\u001b[0;34m.\u001b[0m\u001b[0mravel\u001b[0m\u001b[0;34m(\u001b[0m\u001b[0my\u001b[0m\u001b[0;34m)\u001b[0m\u001b[0;34m)\u001b[0m\u001b[0;34m\u001b[0m\u001b[0m\n",
      "\u001b[0;31mModuleNotFoundError\u001b[0m: No module named 'graphviz'"
     ]
    }
   ],
   "source": [
    "from sklearn import tree\n",
    "from sklearn.tree import DecisionTreeClassifier\n",
    "import graphviz \n",
    "clf = tree.DecisionTreeClassifier(max_depth=5) #class_weight=\"balanced\")\n",
    "clf = clf.fit(X, np.ravel(y))\n"
   ]
  },
  {
   "cell_type": "code",
   "execution_count": null,
   "metadata": {},
   "outputs": [],
   "source": [
    "dot_data = tree.export_graphviz(clf, out_file=None,  feature_names=X.columns,  \n",
    "class_names=None,  filled=True, rounded=True, special_characters=True) \n",
    "\n",
    "\n",
    "graph = graphviz.Source(dot_data)  \n",
    "\n",
    "graph.render('img/dtree_render_text1',view=True)"
   ]
  },
  {
   "cell_type": "code",
   "execution_count": null,
   "metadata": {},
   "outputs": [],
   "source": []
  }
 ],
 "metadata": {
  "kernelspec": {
   "display_name": "Python 3",
   "language": "python",
   "name": "python3"
  },
  "language_info": {
   "codemirror_mode": {
    "name": "ipython",
    "version": 3
   },
   "file_extension": ".py",
   "mimetype": "text/x-python",
   "name": "python",
   "nbconvert_exporter": "python",
   "pygments_lexer": "ipython3",
   "version": "3.6.4"
  }
 },
 "nbformat": 4,
 "nbformat_minor": 2
}
