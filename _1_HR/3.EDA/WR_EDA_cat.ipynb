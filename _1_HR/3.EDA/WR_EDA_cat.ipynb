{
 "cells": [
  {
   "cell_type": "markdown",
   "metadata": {},
   "source": [
    "## Feature selection: categorical"
   ]
  },
  {
   "cell_type": "markdown",
   "metadata": {},
   "source": [
    "__Notes__: you'll need to ammend the sys path for your setup. "
   ]
  },
  {
   "cell_type": "code",
   "execution_count": 6,
   "metadata": {},
   "outputs": [],
   "source": [
    "import pandas as pd\n",
    "import numpy as np\n",
    "import seaborn as sns\n",
    "import matplotlib.pyplot as plt\n",
    "%matplotlib inline\n",
    "\n",
    "from sklearn.ensemble import ExtraTreesClassifier\n",
    "from sklearn.metrics import accuracy_score, confusion_matrix, classification_report, log_loss\n",
    "from sklearn.ensemble import RandomForestClassifier\n",
    "from sklearn.model_selection import train_test_split, cross_val_score, cross_val_predict\n",
    "from sklearn.feature_selection import SelectFromModel\n",
    "\n",
    "import os\n",
    "#os.environ[\"PATH\"] += os.pathsep + 'C:\\\\Users\\\\jander33\\\\Desktop\\\\project_5\\\\programs\\\\graphviz\\\\bin'\n",
    "\n",
    "\n",
    "import sys\n",
    "sys.path.append('../code/quickpipeline')\n",
    "sys.path.append('../code/cleaners')\n",
    "sys.path.append('../code/features')\n",
    "#sys.path.append(r'C:\\\\Users\\\\jander33\\\\Desktop\\\\project_5\\\\programs')\n",
    "#sys.path.append(r'C:\\Miniconda3\\envs\\tf\\Lib\\site-packages')\n",
    "\n",
    "#print(sys.path)\n",
    "from quickpipeline import QuickPipeline\n",
    "from J_cleaner import *\n",
    "from j_features import *\n",
    "\n",
    "pd.set_option('display.max_rows', 500)\n",
    "pd.set_option('display.max_columns', 500)"
   ]
  },
  {
   "cell_type": "code",
   "execution_count": 7,
   "metadata": {},
   "outputs": [],
   "source": [
    "df = pd.read_csv('../data/processed2/class_dfs/WR_27_cat.csv')\n",
    "df.drop(['Unnamed: 0', 'Line'], axis = 1, inplace = True)\n"
   ]
  },
  {
   "cell_type": "code",
   "execution_count": 8,
   "metadata": {},
   "outputs": [],
   "source": [
    "data = pd.read_csv('../data/processed2/WR_27_p2.csv')\n",
    "data.drop(['Unnamed: 0'], axis = 1, inplace = True)"
   ]
  },
  {
   "cell_type": "code",
   "execution_count": 9,
   "metadata": {},
   "outputs": [],
   "source": [
    "# For some reason, the '<' seemed to be causing issues\n",
    "dict1 = {'c.<40': 'medium',\n",
    "'d.<70': 'high',  \n",
    "'b.<15': 'lowest',    \n",
    "'b.<25': 'low',     \n",
    "'e.70+': 'highest',     \n",
    "}\n",
    "\n",
    "dict2 = {'b.<1800': 'medium',\n",
    "'d.<11300': 'high',  \n",
    "'c.<4250': 'low',    \n",
    "'e.11300+ ': 'highest'         \n",
    "}"
   ]
  },
  {
   "cell_type": "code",
   "execution_count": 10,
   "metadata": {},
   "outputs": [
    {
     "data": {
      "text/plain": [
       "medium     7251\n",
       "high       7240\n",
       "lowest     5352\n",
       "low        4895\n",
       "highest    3367\n",
       "Name: LOC_BLD_AGE_bkt, dtype: int64"
      ]
     },
     "execution_count": 10,
     "metadata": {},
     "output_type": "execute_result"
    }
   ],
   "source": [
    "df['LOC_BLD_AGE_bkt'] = df['LOC_BLD_AGE_bkt'].map(dict1)\n",
    "df['LOC_BLD_AGE_bkt'].value_counts()"
   ]
  },
  {
   "cell_type": "code",
   "execution_count": 11,
   "metadata": {},
   "outputs": [
    {
     "data": {
      "text/plain": [
       "medium    16351\n",
       "high       4465\n",
       "low        3824\n",
       "Name: SUM_BLD_SQFTAGE_bkt, dtype: int64"
      ]
     },
     "execution_count": 11,
     "metadata": {},
     "output_type": "execute_result"
    }
   ],
   "source": [
    "df['SUM_BLD_SQFTAGE_bkt'] = df['SUM_BLD_SQFTAGE_bkt'].map(dict2)\n",
    "df['SUM_BLD_SQFTAGE_bkt'].value_counts()"
   ]
  },
  {
   "cell_type": "code",
   "execution_count": 12,
   "metadata": {},
   "outputs": [],
   "source": [
    "y = data[['TRV.Win']]"
   ]
  },
  {
   "cell_type": "code",
   "execution_count": 13,
   "metadata": {},
   "outputs": [
    {
     "data": {
      "text/plain": [
       "0    19790\n",
       "1     8315\n",
       "Name: TRV.Win, dtype: int64"
      ]
     },
     "execution_count": 13,
     "metadata": {},
     "output_type": "execute_result"
    }
   ],
   "source": [
    "y['TRV.Win'].value_counts()"
   ]
  },
  {
   "cell_type": "code",
   "execution_count": 14,
   "metadata": {},
   "outputs": [
    {
     "name": "stdout",
     "output_type": "stream",
     "text": [
      "Number of factors:  6 \n",
      "\n",
      "a.0         13130\n",
      "b.1         10027\n",
      "c.2          3348\n",
      "d.3           987\n",
      "f.others      341\n",
      "e.4           272\n",
      "Name: earlyshop_mth_bkt, dtype: int64\n"
     ]
    }
   ],
   "source": [
    "j_factors('earlyshop_mth_bkt', df, 15)"
   ]
  },
  {
   "cell_type": "code",
   "execution_count": 15,
   "metadata": {},
   "outputs": [],
   "source": [
    "df['SPRNKL_IND_bkt'] = df['SPRNKL_IND_bkt'].map({'b.N':'N', 'a.Y':'Y'})"
   ]
  },
  {
   "cell_type": "code",
   "execution_count": 16,
   "metadata": {},
   "outputs": [],
   "source": [
    "df['earlyshop_mth_bkt'] = df['earlyshop_mth_bkt'].map({'a.0':'0', 'b.1':'1', 'c.2': '2', 'd.3': '3',\n",
    "                                                      'e.4': '4', 'f.others': 'others'})"
   ]
  },
  {
   "cell_type": "markdown",
   "metadata": {},
   "source": [
    "Pipeline rejects the numerical or tries to scale them"
   ]
  },
  {
   "cell_type": "code",
   "execution_count": 17,
   "metadata": {},
   "outputs": [],
   "source": [
    "df['FirstQuoteYear'] = df['FirstQuoteYear'].apply(lambda x: str(x))"
   ]
  },
  {
   "cell_type": "code",
   "execution_count": 18,
   "metadata": {},
   "outputs": [],
   "source": [
    "df['FirstEffYear'] = df['FirstEffYear'].apply(lambda x: str(x))"
   ]
  },
  {
   "cell_type": "code",
   "execution_count": 19,
   "metadata": {},
   "outputs": [],
   "source": [
    "#df['bld_ind'] = df['bld_ind'].apply(lambda x: str(x))"
   ]
  },
  {
   "cell_type": "code",
   "execution_count": 20,
   "metadata": {},
   "outputs": [
    {
     "data": {
      "text/plain": [
       "WESTERN           6950\n",
       "MID-ATLANTIC      5452\n",
       "SOUTHERN          4481\n",
       "NORTHEAST         4463\n",
       "SOUTH CENTRAL     3177\n",
       "CENTRAL           2932\n",
       "CALIFORNIA         637\n",
       "NATIONAL DIST.      13\n",
       "Name: Region, dtype: int64"
      ]
     },
     "execution_count": 20,
     "metadata": {},
     "output_type": "execute_result"
    }
   ],
   "source": [
    "df.Region.value_counts()"
   ]
  },
  {
   "cell_type": "code",
   "execution_count": 21,
   "metadata": {},
   "outputs": [],
   "source": [
    "df['csf'] = df.State.map(csf)\n",
    "df['market_sh'] = df.State.map(market_sh)\n",
    "df['div'] = df.State.map(div)"
   ]
  },
  {
   "cell_type": "code",
   "execution_count": 22,
   "metadata": {},
   "outputs": [
    {
     "data": {
      "text/plain": [
       "Index(['UWC', 'Region', 'State', 'Segment', 'FirstQuoteYear', 'FirstEffYear',\n",
       "       'mnln_cd', 'coast_ind', 'earlyshop_mth_bkt', 'SPRNKL_IND_bkt',\n",
       "       'SUM_BLD_SQFTAGE_bkt', 'LOC_BLD_AGE_bkt', 'bld_ind', 'csf', 'market_sh',\n",
       "       'div'],\n",
       "      dtype='object')"
      ]
     },
     "execution_count": 22,
     "metadata": {},
     "output_type": "execute_result"
    }
   ],
   "source": [
    "df.columns"
   ]
  },
  {
   "cell_type": "code",
   "execution_count": 23,
   "metadata": {},
   "outputs": [
    {
     "data": {
      "text/html": [
       "<div>\n",
       "<style scoped>\n",
       "    .dataframe tbody tr th:only-of-type {\n",
       "        vertical-align: middle;\n",
       "    }\n",
       "\n",
       "    .dataframe tbody tr th {\n",
       "        vertical-align: top;\n",
       "    }\n",
       "\n",
       "    .dataframe thead th {\n",
       "        text-align: right;\n",
       "    }\n",
       "</style>\n",
       "<table border=\"1\" class=\"dataframe\">\n",
       "  <thead>\n",
       "    <tr style=\"text-align: right;\">\n",
       "      <th></th>\n",
       "      <th>UWC</th>\n",
       "      <th>Region</th>\n",
       "      <th>State</th>\n",
       "      <th>Segment</th>\n",
       "      <th>FirstQuoteYear</th>\n",
       "      <th>FirstEffYear</th>\n",
       "      <th>mnln_cd</th>\n",
       "      <th>coast_ind</th>\n",
       "      <th>earlyshop_mth_bkt</th>\n",
       "      <th>SPRNKL_IND_bkt</th>\n",
       "      <th>SUM_BLD_SQFTAGE_bkt</th>\n",
       "      <th>LOC_BLD_AGE_bkt</th>\n",
       "      <th>bld_ind</th>\n",
       "      <th>csf</th>\n",
       "      <th>market_sh</th>\n",
       "      <th>div</th>\n",
       "    </tr>\n",
       "  </thead>\n",
       "  <tbody>\n",
       "    <tr>\n",
       "      <th>0</th>\n",
       "      <td>HUNT VALLEY</td>\n",
       "      <td>MID-ATLANTIC</td>\n",
       "      <td>VA</td>\n",
       "      <td>RESTAURANTS</td>\n",
       "      <td>2017</td>\n",
       "      <td>2017</td>\n",
       "      <td>MULTI</td>\n",
       "      <td>N</td>\n",
       "      <td>0</td>\n",
       "      <td>N</td>\n",
       "      <td>medium</td>\n",
       "      <td>medium</td>\n",
       "      <td>0</td>\n",
       "      <td>0</td>\n",
       "      <td>none</td>\n",
       "      <td>none</td>\n",
       "    </tr>\n",
       "    <tr>\n",
       "      <th>1</th>\n",
       "      <td>KANSAS CITY</td>\n",
       "      <td>SOUTH CENTRAL</td>\n",
       "      <td>MO</td>\n",
       "      <td>BUILDING</td>\n",
       "      <td>2018</td>\n",
       "      <td>2018</td>\n",
       "      <td>MPAC</td>\n",
       "      <td>N</td>\n",
       "      <td>1</td>\n",
       "      <td>N</td>\n",
       "      <td>NaN</td>\n",
       "      <td>low</td>\n",
       "      <td>1</td>\n",
       "      <td>1</td>\n",
       "      <td>low</td>\n",
       "      <td>low</td>\n",
       "    </tr>\n",
       "    <tr>\n",
       "      <th>2</th>\n",
       "      <td>NAPERVILLE</td>\n",
       "      <td>CENTRAL</td>\n",
       "      <td>TN</td>\n",
       "      <td>OFFICE</td>\n",
       "      <td>2017</td>\n",
       "      <td>2018</td>\n",
       "      <td>MULTI</td>\n",
       "      <td>N</td>\n",
       "      <td>3</td>\n",
       "      <td>N</td>\n",
       "      <td>medium</td>\n",
       "      <td>medium</td>\n",
       "      <td>1</td>\n",
       "      <td>0</td>\n",
       "      <td>none</td>\n",
       "      <td>none</td>\n",
       "    </tr>\n",
       "    <tr>\n",
       "      <th>3</th>\n",
       "      <td>CHARLOTTE</td>\n",
       "      <td>SOUTHERN</td>\n",
       "      <td>AL</td>\n",
       "      <td>OFFICE</td>\n",
       "      <td>2017</td>\n",
       "      <td>2018</td>\n",
       "      <td>MPAC</td>\n",
       "      <td>N</td>\n",
       "      <td>2</td>\n",
       "      <td>N</td>\n",
       "      <td>medium</td>\n",
       "      <td>high</td>\n",
       "      <td>0</td>\n",
       "      <td>0</td>\n",
       "      <td>none</td>\n",
       "      <td>none</td>\n",
       "    </tr>\n",
       "    <tr>\n",
       "      <th>4</th>\n",
       "      <td>NAPERVILLE</td>\n",
       "      <td>CENTRAL</td>\n",
       "      <td>IL</td>\n",
       "      <td>APARTMENTS</td>\n",
       "      <td>2017</td>\n",
       "      <td>2018</td>\n",
       "      <td>MPAC</td>\n",
       "      <td>N</td>\n",
       "      <td>1</td>\n",
       "      <td>N</td>\n",
       "      <td>high</td>\n",
       "      <td>high</td>\n",
       "      <td>1</td>\n",
       "      <td>0</td>\n",
       "      <td>none</td>\n",
       "      <td>none</td>\n",
       "    </tr>\n",
       "  </tbody>\n",
       "</table>\n",
       "</div>"
      ],
      "text/plain": [
       "           UWC         Region State      Segment FirstQuoteYear FirstEffYear  \\\n",
       "0  HUNT VALLEY   MID-ATLANTIC    VA  RESTAURANTS           2017         2017   \n",
       "1  KANSAS CITY  SOUTH CENTRAL    MO     BUILDING           2018         2018   \n",
       "2   NAPERVILLE        CENTRAL    TN       OFFICE           2017         2018   \n",
       "3    CHARLOTTE       SOUTHERN    AL       OFFICE           2017         2018   \n",
       "4   NAPERVILLE        CENTRAL    IL   APARTMENTS           2017         2018   \n",
       "\n",
       "  mnln_cd coast_ind earlyshop_mth_bkt SPRNKL_IND_bkt SUM_BLD_SQFTAGE_bkt  \\\n",
       "0   MULTI         N                 0              N              medium   \n",
       "1    MPAC         N                 1              N                 NaN   \n",
       "2   MULTI         N                 3              N              medium   \n",
       "3    MPAC         N                 2              N              medium   \n",
       "4    MPAC         N                 1              N                high   \n",
       "\n",
       "  LOC_BLD_AGE_bkt  bld_ind csf market_sh   div  \n",
       "0          medium        0   0      none  none  \n",
       "1             low        1   1       low   low  \n",
       "2          medium        1   0      none  none  \n",
       "3            high        0   0      none  none  \n",
       "4            high        1   0      none  none  "
      ]
     },
     "execution_count": 23,
     "metadata": {},
     "output_type": "execute_result"
    }
   ],
   "source": [
    "df.head()"
   ]
  },
  {
   "cell_type": "markdown",
   "metadata": {},
   "source": [
    "### Feature selection with XG BOOST"
   ]
  },
  {
   "cell_type": "markdown",
   "metadata": {},
   "source": [
    "XGboost has installation problems sometimes. The sys.path above will direct it to the programs folder"
   ]
  },
  {
   "cell_type": "code",
   "execution_count": 24,
   "metadata": {},
   "outputs": [],
   "source": [
    "from xgboost import XGBClassifier\n",
    "from xgboost import plot_importance, plot_tree, to_graphviz"
   ]
  },
  {
   "cell_type": "code",
   "execution_count": 25,
   "metadata": {},
   "outputs": [
    {
     "name": "stderr",
     "output_type": "stream",
     "text": [
      "/Users/jacob/anaconda3/envs/DL/lib/python3.6/site-packages/sklearn/preprocessing/label.py:151: DeprecationWarning: The truth value of an empty array is ambiguous. Returning False, but in future this will result in an error. Use `array.size > 0` to check that an array is not empty.\n",
      "  if diff:\n",
      "/Users/jacob/anaconda3/envs/DL/lib/python3.6/site-packages/sklearn/preprocessing/label.py:151: DeprecationWarning: The truth value of an empty array is ambiguous. Returning False, but in future this will result in an error. Use `array.size > 0` to check that an array is not empty.\n",
      "  if diff:\n",
      "/Users/jacob/anaconda3/envs/DL/lib/python3.6/site-packages/sklearn/preprocessing/label.py:151: DeprecationWarning: The truth value of an empty array is ambiguous. Returning False, but in future this will result in an error. Use `array.size > 0` to check that an array is not empty.\n",
      "  if diff:\n",
      "/Users/jacob/anaconda3/envs/DL/lib/python3.6/site-packages/sklearn/preprocessing/label.py:151: DeprecationWarning: The truth value of an empty array is ambiguous. Returning False, but in future this will result in an error. Use `array.size > 0` to check that an array is not empty.\n",
      "  if diff:\n"
     ]
    },
    {
     "name": "stdout",
     "output_type": "stream",
     "text": [
      "[0.73136453 0.72922967 0.73474471 0.7302971  0.72051236]\n"
     ]
    },
    {
     "name": "stderr",
     "output_type": "stream",
     "text": [
      "/Users/jacob/anaconda3/envs/DL/lib/python3.6/site-packages/sklearn/preprocessing/label.py:151: DeprecationWarning: The truth value of an empty array is ambiguous. Returning False, but in future this will result in an error. Use `array.size > 0` to check that an array is not empty.\n",
      "  if diff:\n"
     ]
    }
   ],
   "source": [
    "pipeline = QuickPipeline() \n",
    "X = pipeline.fit_transform(df) \n",
    "y_ = np.ravel(y)\n",
    "\n",
    "model = XGBClassifier(max_depth=5,\n",
    "                      min_child_weight=20,\n",
    "                      colsample_bytree=0.7,\n",
    "                      gamma=0.1,\n",
    "                      reg_alpha=0.1,\n",
    "                      reg_lambda=0.1,\n",
    "                      max_delta_step=1)\n",
    "model.fit(X, y_)\n",
    "\n",
    "\n",
    "scores = cross_val_score(model, X, y_, cv=5)\n",
    "print(scores)  \n"
   ]
  },
  {
   "cell_type": "code",
   "execution_count": 26,
   "metadata": {},
   "outputs": [
    {
     "name": "stdout",
     "output_type": "stream",
     "text": [
      "Feature ranking:\n",
      "1. Feature: mnln_cd  with weight: 0.05831903964281082\n",
      "2. Feature: earlyshop_mth_bkt_0  with weight: 0.050314463675022125\n",
      "3. Feature: bld_ind  with weight: 0.03945111483335495\n",
      "4. Feature: SUM_BLD_SQFTAGE_bkt_medium  with weight: 0.03830760344862938\n",
      "5. Feature: Segment_RESTAURANTS  with weight: 0.03201829642057419\n",
      "6. Feature: Segment_BUILDING  with weight: 0.027444254606962204\n",
      "7. Feature: Segment_CONTRACTORS  with weight: 0.02287021093070507\n",
      "8. Feature: earlyshop_mth_bkt_1  with weight: 0.022298457100987434\n",
      "9. Feature: SUM_BLD_SQFTAGE_bkt_low  with weight: 0.02058319002389908\n",
      "10. Feature: FirstQuoteYear_2017  with weight: 0.020011434331536293\n"
     ]
    }
   ],
   "source": [
    "importances = model.feature_importances_\n",
    "indices = np.argsort(importances)[::-1][:10]\n",
    "# Print the feature ranking\n",
    "\n",
    "print(\"Feature ranking:\")\n",
    "\n",
    "for i in range(0, len(indices)):\n",
    "    print('{}. Feature: {}  with weight: {}'.format(i + 1, X.columns[indices[i]], importances[indices[i]]))\n"
   ]
  },
  {
   "cell_type": "code",
   "execution_count": 27,
   "metadata": {},
   "outputs": [
    {
     "data": {
      "image/png": "[encoded data removed]",
      "text/plain": [
       "<matplotlib.figure.Figure at 0x119906438>"
      ]
     },
     "metadata": {},
     "output_type": "display_data"
    }
   ],
   "source": [
    "# plot feature importance\n",
    "plot_importance(model, max_num_features=10)\n",
    "plt.show()\n"
   ]
  },
  {
   "cell_type": "markdown",
   "metadata": {},
   "source": [
    "This is pretty buggy. Graphviz has some dependencies in the evn site-packages. The above path works on my system. The diagrams are in the img file.   \n",
    "\n",
    "Recommed the tree.export_graphviz method. the plot_tree func tends to fail on categorical"
   ]
  },
  {
   "cell_type": "code",
   "execution_count": 28,
   "metadata": {},
   "outputs": [
    {
     "ename": "ModuleNotFoundError",
     "evalue": "No module named 'graphviz'",
     "output_type": "error",
     "traceback": [
      "\u001b[0;31m---------------------------------------------------------------------------\u001b[0m",
      "\u001b[0;31mModuleNotFoundError\u001b[0m                       Traceback (most recent call last)",
      "\u001b[0;32m<ipython-input-28-7eceb0b20673>\u001b[0m in \u001b[0;36m<module>\u001b[0;34m()\u001b[0m\n\u001b[1;32m      1\u001b[0m \u001b[0;32mimport\u001b[0m \u001b[0mpylab\u001b[0m\u001b[0;34m\u001b[0m\u001b[0m\n\u001b[0;32m----> 2\u001b[0;31m \u001b[0;32mimport\u001b[0m \u001b[0mgraphviz\u001b[0m\u001b[0;34m\u001b[0m\u001b[0m\n\u001b[0m\u001b[1;32m      3\u001b[0m \u001b[0;31m#plot_tree(model, num_trees=0, rankdir='UT', ax=None)\u001b[0m\u001b[0;34m\u001b[0m\u001b[0;34m\u001b[0m\u001b[0m\n",
      "\u001b[0;31mModuleNotFoundError\u001b[0m: No module named 'graphviz'"
     ]
    }
   ],
   "source": [
    "import pylab\n",
    "import graphviz \n",
    "#plot_tree(model, num_trees=0, rankdir='UT', ax=None)"
   ]
  },
  {
   "cell_type": "code",
   "execution_count": null,
   "metadata": {},
   "outputs": [],
   "source": [
    "#to_graphviz(model, num_trees=0, rankdir='UT', yes_color='#0000FF', no_color='#FF0000')"
   ]
  },
  {
   "cell_type": "code",
   "execution_count": null,
   "metadata": {},
   "outputs": [],
   "source": [
    "from sklearn import tree\n",
    "from sklearn.tree import DecisionTreeClassifier\n",
    "\n",
    "clf = tree.DecisionTreeClassifier(max_depth=3) #class_weight=\"balanced\")\n",
    "clf = clf.fit(X, np.ravel(y))\n"
   ]
  },
  {
   "cell_type": "code",
   "execution_count": null,
   "metadata": {},
   "outputs": [],
   "source": [
    "dot_data = tree.export_graphviz(clf, out_file=None,  feature_names=X.columns,  \n",
    "class_names=None,  filled=True, rounded=True, special_characters=True) \n",
    "\n",
    "\n",
    "graph = graphviz.Source(dot_data)  \n",
    "\n",
    "graph.render('img/dtree_render',view=True)"
   ]
  },
  {
   "cell_type": "code",
   "execution_count": null,
   "metadata": {},
   "outputs": [],
   "source": [
    "X.shape"
   ]
  },
  {
   "cell_type": "code",
   "execution_count": 30,
   "metadata": {},
   "outputs": [],
   "source": [
    "# manually select features IOT preserve column names\n",
    "indices = np.argsort(importances)[::-1][:60]\n",
    "feat_top = X.columns[indices][0:60]\n",
    "cat_df = X[feat_top]"
   ]
  },
  {
   "cell_type": "code",
   "execution_count": 31,
   "metadata": {},
   "outputs": [],
   "source": [
    "# model_re = SelectFromModel(model, threshold='.25*mean', prefit=True)\n",
    "# X_re = model_re.transform(X)\n",
    "# cat_df = pd.DataFrame(X_re)\n",
    "# cat_df.shape   "
   ]
  },
  {
   "cell_type": "code",
   "execution_count": 32,
   "metadata": {},
   "outputs": [],
   "source": [
    "\n",
    "cat_df.to_csv('../data/processed3/cat_df.csv', index=False)"
   ]
  },
  {
   "cell_type": "code",
   "execution_count": null,
   "metadata": {},
   "outputs": [],
   "source": []
  },
  {
   "cell_type": "code",
   "execution_count": null,
   "metadata": {},
   "outputs": [],
   "source": []
  }
 ],
 "metadata": {
  "kernelspec": {
   "display_name": "Python 3 (base)",
   "language": "python",
   "name": "python3"
  },
  "language_info": {
   "codemirror_mode": {
    "name": "ipython",
    "version": 3
   },
   "file_extension": ".py",
   "mimetype": "text/x-python",
   "name": "python",
   "nbconvert_exporter": "python",
   "pygments_lexer": "ipython3",
   "version": "3.6.8"
  }
 },
 "nbformat": 4,
 "nbformat_minor": 2
}
