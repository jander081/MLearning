{
 "cells": [
  {
   "cell_type": "markdown",
   "metadata": {},
   "source": [
    "## Feature selection: numerical"
   ]
  },
  {
   "cell_type": "code",
   "execution_count": 1,
   "metadata": {},
   "outputs": [
    {
     "name": "stderr",
     "output_type": "stream",
     "text": [
      "/Users/jacob/anaconda3/envs/DL/lib/python3.6/importlib/_bootstrap.py:219: RuntimeWarning: numpy.dtype size changed, may indicate binary incompatibility. Expected 96, got 88\n",
      "  return f(*args, **kwds)\n",
      "/Users/jacob/anaconda3/envs/DL/lib/python3.6/importlib/_bootstrap.py:219: RuntimeWarning: numpy.dtype size changed, may indicate binary incompatibility. Expected 96, got 88\n",
      "  return f(*args, **kwds)\n",
      "/Users/jacob/anaconda3/envs/DL/lib/python3.6/importlib/_bootstrap.py:219: RuntimeWarning: numpy.dtype size changed, may indicate binary incompatibility. Expected 96, got 88\n",
      "  return f(*args, **kwds)\n",
      "/Users/jacob/anaconda3/envs/DL/lib/python3.6/importlib/_bootstrap.py:219: RuntimeWarning: numpy.dtype size changed, may indicate binary incompatibility. Expected 96, got 88\n",
      "  return f(*args, **kwds)\n",
      "/Users/jacob/anaconda3/envs/DL/lib/python3.6/importlib/_bootstrap.py:219: RuntimeWarning: numpy.dtype size changed, may indicate binary incompatibility. Expected 96, got 88\n",
      "  return f(*args, **kwds)\n",
      "/Users/jacob/anaconda3/envs/DL/lib/python3.6/site-packages/sklearn/ensemble/weight_boosting.py:29: DeprecationWarning: numpy.core.umath_tests is an internal NumPy module and should not be imported. It will be removed in a future NumPy release.\n",
      "  from numpy.core.umath_tests import inner1d\n"
     ]
    }
   ],
   "source": [
    "import pandas as pd\n",
    "import numpy as np\n",
    "import seaborn as sns\n",
    "import matplotlib.pyplot as plt\n",
    "%matplotlib inline\n",
    "\n",
    "from sklearn.ensemble import ExtraTreesClassifier\n",
    "from sklearn.metrics import accuracy_score, confusion_matrix, classification_report, log_loss\n",
    "from sklearn.ensemble import RandomForestClassifier\n",
    "from sklearn.model_selection import train_test_split, cross_val_score, cross_val_predict\n",
    "from sklearn.feature_selection import SelectFromModel\n",
    "\n",
    "import os\n",
    "\n",
    "#os.environ[\"PATH\"] += os.pathsep + 'C:\\\\Users\\\\jander33\\\\Desktop\\\\project_5\\\\programs\\\\graphviz\\\\bin'\n",
    "\n",
    "\n",
    "import sys\n",
    "sys.path.append('../code/quickpipeline')\n",
    "sys.path.append('../code/cleaners')\n",
    "sys.path.append('../code/features')\n",
    "#sys.path.append(r'C:\\\\Users\\\\jander33\\\\Desktop\\\\project_5\\\\programs')\n",
    "#sys.path.append(r'C:\\Miniconda3\\envs\\tf\\Lib\\site-packages')\n",
    "#print(sys.path)\n",
    "\n",
    "from quickpipeline import QuickPipeline\n",
    "from J_cleaner import *\n",
    "from j_features import *\n",
    "\n",
    "pd.set_option('display.max_rows', 500)\n",
    "pd.set_option('display.max_columns', 500)"
   ]
  },
  {
   "cell_type": "code",
   "execution_count": 2,
   "metadata": {},
   "outputs": [],
   "source": [
    "df = pd.read_csv('../data/processed2/class_dfs/WR_27_num.csv')\n",
    "df.drop(['Unnamed: 0', 'X'], axis = 1, inplace = True)"
   ]
  },
  {
   "cell_type": "code",
   "execution_count": 3,
   "metadata": {},
   "outputs": [],
   "source": [
    "data = pd.read_csv('../data/processed2/WR_27_p2.csv')\n",
    "data.drop(['Unnamed: 0', 'X'], axis = 1, inplace = True)"
   ]
  },
  {
   "cell_type": "code",
   "execution_count": 4,
   "metadata": {},
   "outputs": [],
   "source": [
    "#df.head()\n",
    "y =  data[['TRV.Win']]\n",
    "y1 = data[['TRV.Win', 'Competitor.Premium']]\n",
    "\n",
    "#y['TRV.Win'].value_counts()"
   ]
  },
  {
   "cell_type": "markdown",
   "metadata": {},
   "source": [
    "### Outliers -> Isolation forest"
   ]
  },
  {
   "cell_type": "code",
   "execution_count": 5,
   "metadata": {},
   "outputs": [],
   "source": [
    "number_df = sub_df(df)"
   ]
  },
  {
   "cell_type": "code",
   "execution_count": 6,
   "metadata": {},
   "outputs": [
    {
     "data": {
      "text/html": [
       "<div>\n",
       "<style scoped>\n",
       "    .dataframe tbody tr th:only-of-type {\n",
       "        vertical-align: middle;\n",
       "    }\n",
       "\n",
       "    .dataframe tbody tr th {\n",
       "        vertical-align: top;\n",
       "    }\n",
       "\n",
       "    .dataframe thead th {\n",
       "        text-align: right;\n",
       "    }\n",
       "</style>\n",
       "<table border=\"1\" class=\"dataframe\">\n",
       "  <thead>\n",
       "    <tr style=\"text-align: right;\">\n",
       "      <th></th>\n",
       "      <th>TRV.Price</th>\n",
       "      <th>nbr_comp</th>\n",
       "      <th>count</th>\n",
       "      <th>rrv_rt_fct</th>\n",
       "      <th>tot_bld_annl_rev_amt</th>\n",
       "      <th>fnl_prc_pt_fct</th>\n",
       "      <th>tot_ref_rule_cnt</th>\n",
       "      <th>agt_subm_pol_cnt</th>\n",
       "      <th>terr_pctl_bldgcrime</th>\n",
       "      <th>terr_pctl_bldgfire</th>\n",
       "      <th>terr_pctl_weather</th>\n",
       "      <th>terr_pctl_water</th>\n",
       "      <th>terr_pctl_cntscrime</th>\n",
       "      <th>terr_pctl_cntsfire</th>\n",
       "      <th>terr_pctl_liab</th>\n",
       "      <th>afi_pol_cnt</th>\n",
       "      <th>pri_clm_cnt</th>\n",
       "      <th>prcnt_blg_tiv</th>\n",
       "      <th>prcnt_pol_cmp</th>\n",
       "    </tr>\n",
       "  </thead>\n",
       "  <tbody>\n",
       "    <tr>\n",
       "      <th>0</th>\n",
       "      <td>3985</td>\n",
       "      <td>1</td>\n",
       "      <td>1</td>\n",
       "      <td>0.72</td>\n",
       "      <td>450000.0</td>\n",
       "      <td>1.0000</td>\n",
       "      <td>0</td>\n",
       "      <td>1</td>\n",
       "      <td>77</td>\n",
       "      <td>16</td>\n",
       "      <td>98</td>\n",
       "      <td>48</td>\n",
       "      <td>30</td>\n",
       "      <td>46</td>\n",
       "      <td>96</td>\n",
       "      <td>1</td>\n",
       "      <td>0</td>\n",
       "      <td>0.0</td>\n",
       "      <td>1.0</td>\n",
       "    </tr>\n",
       "    <tr>\n",
       "      <th>1</th>\n",
       "      <td>6813</td>\n",
       "      <td>4</td>\n",
       "      <td>1</td>\n",
       "      <td>1.00</td>\n",
       "      <td>100000.0</td>\n",
       "      <td>0.7286</td>\n",
       "      <td>1</td>\n",
       "      <td>1</td>\n",
       "      <td>94</td>\n",
       "      <td>96</td>\n",
       "      <td>2</td>\n",
       "      <td>88</td>\n",
       "      <td>91</td>\n",
       "      <td>73</td>\n",
       "      <td>78</td>\n",
       "      <td>0</td>\n",
       "      <td>0</td>\n",
       "      <td>1.0</td>\n",
       "      <td>1.0</td>\n",
       "    </tr>\n",
       "  </tbody>\n",
       "</table>\n",
       "</div>"
      ],
      "text/plain": [
       "   TRV.Price  nbr_comp  count  rrv_rt_fct  tot_bld_annl_rev_amt  \\\n",
       "0       3985         1      1        0.72              450000.0   \n",
       "1       6813         4      1        1.00              100000.0   \n",
       "\n",
       "   fnl_prc_pt_fct  tot_ref_rule_cnt  agt_subm_pol_cnt  terr_pctl_bldgcrime  \\\n",
       "0          1.0000                 0                 1                   77   \n",
       "1          0.7286                 1                 1                   94   \n",
       "\n",
       "   terr_pctl_bldgfire  terr_pctl_weather  terr_pctl_water  \\\n",
       "0                  16                 98               48   \n",
       "1                  96                  2               88   \n",
       "\n",
       "   terr_pctl_cntscrime  terr_pctl_cntsfire  terr_pctl_liab  afi_pol_cnt  \\\n",
       "0                   30                  46              96            1   \n",
       "1                   91                  73              78            0   \n",
       "\n",
       "   pri_clm_cnt  prcnt_blg_tiv  prcnt_pol_cmp  \n",
       "0            0            0.0            1.0  \n",
       "1            0            1.0            1.0  "
      ]
     },
     "execution_count": 6,
     "metadata": {},
     "output_type": "execute_result"
    }
   ],
   "source": [
    "number_df.head(2)\n",
    "#number_df.columns"
   ]
  },
  {
   "cell_type": "code",
   "execution_count": 7,
   "metadata": {},
   "outputs": [
    {
     "name": "stderr",
     "output_type": "stream",
     "text": [
      "/Users/jacob/anaconda3/envs/DL/lib/python3.6/site-packages/scipy/stats/stats.py:1706: FutureWarning: Using a non-tuple sequence for multidimensional indexing is deprecated; use `arr[tuple(seq)]` instead of `arr[seq]`. In the future this will be interpreted as an array index, `arr[np.array(seq)]`, which will result either in an error or a different result.\n",
      "  return np.add.reduce(sorted[indexer] * weights, axis=axis) / sumval\n"
     ]
    }
   ],
   "source": [
    "from sklearn.ensemble import IsolationForest\n",
    "\n",
    "clf = IsolationForest(contamination=.05)\n",
    "clf.fit(number_df)\n",
    "outliers = clf.predict(number_df)\n",
    "\n",
    "outliers = pd.DataFrame(outliers)\n",
    "outliers.rename(columns={0: 'outliers'}, inplace=True)\n",
    "df2 = pd.concat([number_df, outliers, y], axis=1)\n"
   ]
  },
  {
   "cell_type": "code",
   "execution_count": 8,
   "metadata": {},
   "outputs": [
    {
     "name": "stdout",
     "output_type": "stream",
     "text": [
      "previous shape (28105, 21)\n",
      "0    19790\n",
      "1     8315\n",
      "Name: TRV.Win, dtype: int64\n",
      "5% of outliers:  (1406, 1)  reduce to ?% of the data eventually\n",
      "non-wins after removal:  (18671, 21)\n",
      "wins after removal:  (8028, 21)\n",
      "this is an imbalance improvement of almost 2%.\n"
     ]
    }
   ],
   "source": [
    "print('previous shape', df2.shape)\n",
    "print(y['TRV.Win'].value_counts())\n",
    "\n",
    "nonwin = df2[df2['TRV.Win'] == 0]\n",
    "win = df2[df2['TRV.Win'] == 1]\n",
    "\n",
    "out = outliers[outliers['outliers'] == -1]\n",
    "print('5% of outliers: ', out.shape, ' reduce to ?% of the data eventually')\n",
    "\n",
    "reduced_nonwin = nonwin[nonwin['outliers'] == 1]\n",
    "print('non-wins after removal: ', reduced_nonwin.shape)\n",
    "\n",
    "reduced_win = win[win['outliers'] == 1]\n",
    "\n",
    "print('wins after removal: ', reduced_win.shape)\n",
    "print('this is an imbalance improvement of almost 2%.')"
   ]
  },
  {
   "cell_type": "code",
   "execution_count": 10,
   "metadata": {},
   "outputs": [],
   "source": [
    "outliers_response_comp_prem = pd.concat([outliers, y1], axis=1)\n"
   ]
  },
  {
   "cell_type": "code",
   "execution_count": 11,
   "metadata": {},
   "outputs": [],
   "source": [
    "outliers_response_comp_prem.to_csv('../data/processed3/outliers_response.csv', index=False)"
   ]
  },
  {
   "cell_type": "markdown",
   "metadata": {},
   "source": [
    "### Feature selection with XG BOOST"
   ]
  },
  {
   "cell_type": "code",
   "execution_count": 12,
   "metadata": {},
   "outputs": [],
   "source": [
    "from xgboost import XGBClassifier\n",
    "from xgboost import plot_importance, plot_tree, to_graphviz"
   ]
  },
  {
   "cell_type": "code",
   "execution_count": 13,
   "metadata": {},
   "outputs": [
    {
     "name": "stderr",
     "output_type": "stream",
     "text": [
      "/Users/jacob/anaconda3/envs/DL/lib/python3.6/site-packages/sklearn/preprocessing/label.py:151: DeprecationWarning: The truth value of an empty array is ambiguous. Returning False, but in future this will result in an error. Use `array.size > 0` to check that an array is not empty.\n",
      "  if diff:\n",
      "/Users/jacob/anaconda3/envs/DL/lib/python3.6/site-packages/sklearn/preprocessing/label.py:151: DeprecationWarning: The truth value of an empty array is ambiguous. Returning False, but in future this will result in an error. Use `array.size > 0` to check that an array is not empty.\n",
      "  if diff:\n",
      "/Users/jacob/anaconda3/envs/DL/lib/python3.6/site-packages/sklearn/preprocessing/label.py:151: DeprecationWarning: The truth value of an empty array is ambiguous. Returning False, but in future this will result in an error. Use `array.size > 0` to check that an array is not empty.\n",
      "  if diff:\n",
      "/Users/jacob/anaconda3/envs/DL/lib/python3.6/site-packages/sklearn/preprocessing/label.py:151: DeprecationWarning: The truth value of an empty array is ambiguous. Returning False, but in future this will result in an error. Use `array.size > 0` to check that an array is not empty.\n",
      "  if diff:\n"
     ]
    },
    {
     "name": "stdout",
     "output_type": "stream",
     "text": [
      "[0.76214197 0.75965131 0.76392101 0.75627113 0.75484789]\n"
     ]
    },
    {
     "name": "stderr",
     "output_type": "stream",
     "text": [
      "/Users/jacob/anaconda3/envs/DL/lib/python3.6/site-packages/sklearn/preprocessing/label.py:151: DeprecationWarning: The truth value of an empty array is ambiguous. Returning False, but in future this will result in an error. Use `array.size > 0` to check that an array is not empty.\n",
      "  if diff:\n"
     ]
    }
   ],
   "source": [
    "pipeline = QuickPipeline(categorical_features=None) \n",
    "X = pipeline.fit_transform(df) \n",
    "y_ = np.ravel(y)\n",
    "\n",
    "model = XGBClassifier(max_depth=5,\n",
    "                      min_child_weight=20,\n",
    "                      colsample_bytree=0.7,\n",
    "                      gamma=0.1,\n",
    "                      reg_alpha=0.1,\n",
    "                      reg_lambda=0.1,\n",
    "                      max_delta_step=1)\n",
    "model.fit(X, y_)\n",
    "\n",
    "\n",
    "scores = cross_val_score(model, X, y_, cv=5)\n",
    "print(scores)  \n"
   ]
  },
  {
   "cell_type": "code",
   "execution_count": 14,
   "metadata": {},
   "outputs": [
    {
     "name": "stdout",
     "output_type": "stream",
     "text": [
      "Feature ranking:\n",
      "1. Feature: TRV.Price  with weight: 0.18059425055980682\n",
      "2. Feature: tot_bld_annl_rev_amt  with weight: 0.10584957897663116\n",
      "3. Feature: fnl_prc_pt_fct  with weight: 0.104456827044487\n",
      "4. Feature: terr_pctl_weather  with weight: 0.07056638598442078\n",
      "5. Feature: terr_pctl_liab  with weight: 0.06917363405227661\n",
      "6. Feature: terr_pctl_cntscrime  with weight: 0.0622098408639431\n",
      "7. Feature: terr_pctl_bldgfire  with weight: 0.06128133833408356\n",
      "8. Feature: prcnt_blg_tiv  with weight: 0.05803157016634941\n",
      "9. Feature: terr_pctl_bldgcrime  with weight: 0.05663881078362465\n",
      "10. Feature: terr_pctl_water  with weight: 0.04688950628042221\n"
     ]
    }
   ],
   "source": [
    "importances = model.feature_importances_\n",
    "indices = np.argsort(importances)[::-1][:10]\n",
    "# Print the feature ranking\n",
    "\n",
    "print(\"Feature ranking:\")\n",
    "\n",
    "for i in range(0, len(indices)):\n",
    "    print('{}. Feature: {}  with weight: {}'.format(i + 1, X.columns[indices[i]], importances[indices[i]]))\n"
   ]
  },
  {
   "cell_type": "code",
   "execution_count": 15,
   "metadata": {},
   "outputs": [
    {
     "data": {
      "image/png": "[encoded data removed]",
      "text/plain": [
       "<matplotlib.figure.Figure at 0x1a24413908>"
      ]
     },
     "metadata": {},
     "output_type": "display_data"
    }
   ],
   "source": [
    "# plot feature importance\n",
    "plot_importance(model, max_num_features=10)\n",
    "plt.show()\n"
   ]
  },
  {
   "cell_type": "code",
   "execution_count": 16,
   "metadata": {},
   "outputs": [
    {
     "ename": "ModuleNotFoundError",
     "evalue": "No module named 'graphviz'",
     "output_type": "error",
     "traceback": [
      "\u001b[0;31m---------------------------------------------------------------------------\u001b[0m",
      "\u001b[0;31mModuleNotFoundError\u001b[0m                       Traceback (most recent call last)",
      "\u001b[0;32m<ipython-input-16-37e4f36596bf>\u001b[0m in \u001b[0;36m<module>\u001b[0;34m()\u001b[0m\n\u001b[1;32m      1\u001b[0m \u001b[0;32mimport\u001b[0m \u001b[0mpylab\u001b[0m\u001b[0;34m\u001b[0m\u001b[0m\n\u001b[0;32m----> 2\u001b[0;31m \u001b[0;32mimport\u001b[0m \u001b[0mgraphviz\u001b[0m\u001b[0;34m\u001b[0m\u001b[0m\n\u001b[0m\u001b[1;32m      3\u001b[0m \u001b[0mplot_tree\u001b[0m\u001b[0;34m(\u001b[0m\u001b[0mmodel\u001b[0m\u001b[0;34m,\u001b[0m \u001b[0mnum_trees\u001b[0m\u001b[0;34m=\u001b[0m\u001b[0;36m0\u001b[0m\u001b[0;34m,\u001b[0m \u001b[0mrankdir\u001b[0m\u001b[0;34m=\u001b[0m\u001b[0;34m'UT'\u001b[0m\u001b[0;34m,\u001b[0m \u001b[0max\u001b[0m\u001b[0;34m=\u001b[0m\u001b[0;32mNone\u001b[0m\u001b[0;34m)\u001b[0m\u001b[0;34m\u001b[0m\u001b[0m\n",
      "\u001b[0;31mModuleNotFoundError\u001b[0m: No module named 'graphviz'"
     ]
    }
   ],
   "source": [
    "import pylab\n",
    "import graphviz \n",
    "plot_tree(model, num_trees=0, rankdir='UT', ax=None)\n"
   ]
  },
  {
   "cell_type": "code",
   "execution_count": 17,
   "metadata": {},
   "outputs": [],
   "source": [
    "# manually select features IOT preserve column names\n",
    "indices = np.argsort(importances)[::-1][:15]\n",
    "feat_top = X.columns[indices][0:15]\n",
    "num_df = X[feat_top]"
   ]
  },
  {
   "cell_type": "code",
   "execution_count": 18,
   "metadata": {},
   "outputs": [],
   "source": [
    "# model_re = SelectFromModel(model, threshold='.5*mean', prefit=True)\n",
    "# X_re = model_re.transform(X)\n",
    "# num_df = pd.DataFrame(X_re)\n",
    "# num_df.shape   "
   ]
  },
  {
   "cell_type": "code",
   "execution_count": 19,
   "metadata": {},
   "outputs": [],
   "source": [
    "\n",
    "num_df.to_csv('../data/processed3/num_df.csv', index=False)"
   ]
  },
  {
   "cell_type": "markdown",
   "metadata": {},
   "source": [
    "### Better graph\n",
    "class_names and balanced seem to cause issues"
   ]
  },
  {
   "cell_type": "code",
   "execution_count": 35,
   "metadata": {},
   "outputs": [],
   "source": [
    "from sklearn import tree\n",
    "from sklearn.tree import DecisionTreeClassifier\n",
    "\n",
    "clf = tree.DecisionTreeClassifier(max_depth=3) #class_weight=\"balanced\")\n",
    "clf = clf.fit(X, np.ravel(y))\n"
   ]
  },
  {
   "cell_type": "code",
   "execution_count": 36,
   "metadata": {},
   "outputs": [
    {
     "data": {
      "text/plain": [
       "'img/dtree_render.pdf'"
      ]
     },
     "execution_count": 36,
     "metadata": {},
     "output_type": "execute_result"
    }
   ],
   "source": [
    "dot_data = tree.export_graphviz(clf, out_file=None,  feature_names=X.columns,  \n",
    "class_names=None,  filled=True, rounded=True, special_characters=True) \n",
    "\n",
    "\n",
    "graph = graphviz.Source(dot_data)  \n",
    "\n",
    "graph.render('img/dtree_render',view=True)"
   ]
  },
  {
   "cell_type": "code",
   "execution_count": null,
   "metadata": {},
   "outputs": [],
   "source": []
  }
 ],
 "metadata": {
  "kernelspec": {
   "display_name": "Python 3",
   "language": "python",
   "name": "python3"
  },
  "language_info": {
   "codemirror_mode": {
    "name": "ipython",
    "version": 3
   },
   "file_extension": ".py",
   "mimetype": "text/x-python",
   "name": "python",
   "nbconvert_exporter": "python",
   "pygments_lexer": "ipython3",
   "version": "3.6.4"
  }
 },
 "nbformat": 4,
 "nbformat_minor": 2
}
