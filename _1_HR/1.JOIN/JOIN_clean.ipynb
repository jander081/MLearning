{
 "cells": [
  {
   "cell_type": "markdown",
   "metadata": {},
   "source": [
    "__Notes:__ the 'comp_hr.csv' was identified in Yang's code. The competitor csv is from the shared drive"
   ]
  },
  {
   "cell_type": "code",
   "execution_count": 5,
   "metadata": {},
   "outputs": [],
   "source": [
    "import pandas as pd\n",
    "import numpy as np\n",
    "\n",
    "pd.set_option('display.max_rows', 500)\n",
    "pd.set_option('display.max_columns', 500)"
   ]
  },
  {
   "cell_type": "code",
   "execution_count": 6,
   "metadata": {},
   "outputs": [
    {
     "name": "stderr",
     "output_type": "stream",
     "text": [
      "/Users/jacob/anaconda3/envs/DL/lib/python3.6/site-packages/IPython/core/interactiveshell.py:2728: DtypeWarning: Columns (51,92,258,259,260) have mixed types. Specify dtype option on import or set low_memory=False.\n",
      "  interactivity=interactivity, compiler=compiler, result=result)\n"
     ]
    },
    {
     "name": "stdout",
     "output_type": "stream",
     "text": [
      "(29601, 381)\n",
      "(63978, 55)\n"
     ]
    },
    {
     "name": "stderr",
     "output_type": "stream",
     "text": [
      "/Users/jacob/anaconda3/envs/DL/lib/python3.6/site-packages/IPython/core/interactiveshell.py:2728: DtypeWarning: Columns (4,6,13,38,39,53) have mixed types. Specify dtype option on import or set low_memory=False.\n",
      "  interactivity=interactivity, compiler=compiler, result=result)\n"
     ]
    }
   ],
   "source": [
    "dfA = pd.read_csv(r'../data/raw/comp_hr.csv', encoding = 'cp1252')\n",
    "dfB = pd.read_csv(r'../data/raw/Competitor Tracking_07_02.csv', encoding = 'cp1252')\n",
    "print(dfA.shape)\n",
    "print(dfB.shape)\n",
    "#dfB.head(1)"
   ]
  },
  {
   "cell_type": "markdown",
   "metadata": {},
   "source": [
    "__Notes__: the INNER JOIN was performed using SAI and Policy #"
   ]
  },
  {
   "cell_type": "code",
   "execution_count": 7,
   "metadata": {},
   "outputs": [],
   "source": [
    "#dfA.columns # 'SAI', 'Policy #'\n",
    "#dfB.columns # 'SAI', 'Policy_Nbr'"
   ]
  },
  {
   "cell_type": "code",
   "execution_count": 8,
   "metadata": {},
   "outputs": [],
   "source": [
    "dfB.rename(columns={'Policy #':'Policy_num'}, inplace = True)\n",
    "dfA.rename(columns={'Policy_Nbr':'Policy_num'}, inplace = True)"
   ]
  },
  {
   "cell_type": "code",
   "execution_count": 9,
   "metadata": {},
   "outputs": [],
   "source": [
    "# INNER JOIN\n",
    "merged = pd.merge(dfA, dfB, on = ['SAI', 'Policy_num'])"
   ]
  },
  {
   "cell_type": "code",
   "execution_count": 10,
   "metadata": {},
   "outputs": [
    {
     "name": "stdout",
     "output_type": "stream",
     "text": [
      "(35399, 434)\n",
      "(35395, 434)\n"
     ]
    }
   ],
   "source": [
    "print(merged.shape)\n",
    "merged.drop_duplicates(inplace = True)\n",
    "print(merged.shape)"
   ]
  },
  {
   "cell_type": "code",
   "execution_count": 11,
   "metadata": {},
   "outputs": [],
   "source": [
    "# The columns were pasted and repeat cols removed\n",
    "# merged.columns\n",
    "# np.transpose(merged.head(3))\n"
   ]
  },
  {
   "cell_type": "code",
   "execution_count": 12,
   "metadata": {},
   "outputs": [
    {
     "data": {
      "text/plain": [
       "(35395, 81)"
      ]
     },
     "execution_count": 12,
     "metadata": {},
     "output_type": "execute_result"
    }
   ],
   "source": [
    "#df.drop([''], axis = 1, inplace = True)\n",
    "df = merged[['SAI', 'Policy_num', 'Line', 'Date of Submission', 'UWC', 'Sales Director', 'Prime', 'Competitor', \n",
    "                  'Competitor Premium Band', 'Competitor Premium', 'Low Competitor for Comparison', \n",
    "                  'TRV Price', 'TRV Premium Band', 'TRV Win', 'Region', 'State', 'Segment_x',\n",
    "                  'Program', 'Program Code', 'Bldg TIV', 'Contents TIV', 'Policy TIV', \n",
    "                  'Bldg TIV Band', 'Content TIV Band', 'Policy TIV Band', 'Week of Entry',\n",
    "                  'Issued Policies', 'nbr_comp', 'max_comp_price', 'min_comp_price', 'mean_trv_price', \n",
    "                  'min_tiv', 'max_tiv', 'min_Bldg_TIV', 'max_Bldg_TIV', 'min_Contents_TIV', \n",
    "                  'max_Contents_TIV', 'FirstQuoteYear', 'FirstEffYear', 'pol_entry_dt', \n",
    "                  'pol_eff_dt', 'count', 'cmp', 'wc', 'auto', 'umb', 'mstr_agt_cd', 'pri_agt_cd', \n",
    "                  'sub_agt_cd', 'mnln_cd', 'rrv_rt_fct', 'insured_zip_cd', 'tot_bld_annl_rev_amt', \n",
    "                  'fnl_prc_pt_fct', 'coast_ind', 'orig_prem_amt_r_sum_loc_tiv_amt',\n",
    "                  'orig_prem_amt_r_pol_bld_lmt_amt','orig_prem_amt_r_loc_tiv_amt','orig_prem_amt_r_pol_bld_lmt_amt', \n",
    "                  'tot_ref_rule_cnt', 'agt_subm_pol_cnt', 'busyr_bkt', 'earlyshop_mth_bkt', \n",
    "                  'pit_cscoreg_bkt', 'pit_fscoreg_bkt', 'SPRNKL_IND_bkt',\n",
    "                  'SUM_BLD_SQFTAGE_bkt','LOC_BLD_AGE_bkt', 'pcls_cd_bkt', 'unit_prem','bld_ind', 'tiv',\n",
    "                  'terr_pctl_bldgcrime', 'terr_pctl_bldgfire', 'terr_pctl_weather', 'terr_pctl_water',\n",
    "                  'terr_pctl_cntscrime', 'terr_pctl_cntsfire', 'terr_pctl_liab', 'afi_pol_cnt', 'pri_clm_cnt']]\n",
    "df.shape"
   ]
  },
  {
   "cell_type": "code",
   "execution_count": 13,
   "metadata": {},
   "outputs": [
    {
     "name": "stdout",
     "output_type": "stream",
     "text": [
      "empty column?  False \n",
      "\n",
      "<na>s:  False    35395\n",
      "Name: pri_clm_cnt, dtype: int64 \n",
      "\n",
      "Number of factors:  6 \n",
      "\n",
      "Table:  0    33294\n",
      "1     1672\n",
      "2      340\n",
      "3       87\n",
      "5        1\n",
      "4        1\n",
      "Name: pri_clm_cnt, dtype: int64 \n",
      "\n"
     ]
    }
   ],
   "source": [
    "# set the col name = to test to check the following\n",
    "test = 'pri_clm_cnt'\n",
    "print('empty column? ', merged[test].empty, '\\n')\n",
    "print('<na>s: ', merged[test].isnull().value_counts(), '\\n')\n",
    "print('Number of factors: ', len(merged[test].value_counts()), '\\n')\n",
    "print('Table: ', merged[test].value_counts(), '\\n')\n"
   ]
  },
  {
   "cell_type": "code",
   "execution_count": null,
   "metadata": {},
   "outputs": [],
   "source": []
  },
  {
   "cell_type": "code",
   "execution_count": 14,
   "metadata": {},
   "outputs": [],
   "source": [
    "df.to_csv('../data/processed1/07_27_p1.csv') #encoding = 'utf-8', index = False)"
   ]
  },
  {
   "cell_type": "code",
   "execution_count": null,
   "metadata": {},
   "outputs": [],
   "source": []
  }
 ],
 "metadata": {
  "kernelspec": {
   "display_name": "Python 3",
   "language": "python",
   "name": "python3"
  },
  "language_info": {
   "codemirror_mode": {
    "name": "ipython",
    "version": 3
   },
   "file_extension": ".py",
   "mimetype": "text/x-python",
   "name": "python",
   "nbconvert_exporter": "python",
   "pygments_lexer": "ipython3",
   "version": "3.6.6"
  }
 },
 "nbformat": 4,
 "nbformat_minor": 2
}
