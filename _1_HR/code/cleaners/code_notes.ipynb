{
 "cells": [
  {
   "cell_type": "markdown",
   "metadata": {},
   "source": [
    "### Various Functions for import"
   ]
  },
  {
   "cell_type": "code",
   "execution_count": 1,
   "metadata": {},
   "outputs": [],
   "source": [
    "import pandas as pd\n",
    "from datetime import datetime"
   ]
  },
  {
   "cell_type": "code",
   "execution_count": 110,
   "metadata": {},
   "outputs": [
    {
     "data": {
      "text/plain": [
       "(31969, 64)"
      ]
     },
     "execution_count": 110,
     "metadata": {},
     "output_type": "execute_result"
    }
   ],
   "source": [
    "# import test set\n",
    "\n",
    "data = pd.read_csv(r'C:\\Users\\jander33\\Desktop\\projects\\project2\\Production\\raw data\\WC_data\\WC Data West only.csv')\n",
    "data.shape\n",
    "# data.columns"
   ]
  },
  {
   "cell_type": "code",
   "execution_count": 196,
   "metadata": {},
   "outputs": [
    {
     "data": {
      "text/plain": [
       "(25706, 64)"
      ]
     },
     "execution_count": 196,
     "metadata": {},
     "output_type": "execute_result"
    }
   ],
   "source": [
    "df = data[data['New-Renew Ind'] != 'New']\n",
    "df.reset_index(drop=True, inplace=True)\n",
    "df.shape"
   ]
  },
  {
   "cell_type": "code",
   "execution_count": 13,
   "metadata": {},
   "outputs": [],
   "source": [
    "def j_factors(col, dframe, tol):\n",
    "        n =  len(dframe[col].value_counts())\n",
    "        print('Number of factors: ', n, '\\n')\n",
    "        \n",
    "        \n",
    "        while True:\n",
    "            try:\n",
    "                if n >= tol:\n",
    "                    ques = ' '\n",
    "                    while not (ques.startswith('y') or ques.startswith('n')):\n",
    "\n",
    "                        ques = input('The factors exceed your tolerance, do you wish to see a truncated version?').lower()\n",
    "                    if ques.startswith('y'):\n",
    "                        print(dframe[col].value_counts().head(10))\n",
    "                        break\n",
    "                    else:\n",
    "                        print('cool')\n",
    "                        break\n",
    "                else:\n",
    "                    print(dframe[col].value_counts())\n",
    "                    break\n",
    "\n",
    "            except ValueError:\n",
    "                print('yes or no')\n"
   ]
  },
  {
   "cell_type": "markdown",
   "metadata": {},
   "source": [
    "### Delta"
   ]
  },
  {
   "cell_type": "code",
   "execution_count": 19,
   "metadata": {},
   "outputs": [],
   "source": [
    "# def delta(date):\n",
    "    \n",
    "#     '''calculate the delta. Use for mapping. \n",
    "#     Date is in format 201804. Returns number of days'''\n",
    "    \n",
    "#     date = str(date)\n",
    "#     year = date[0:4]\n",
    "#     month = str(date[4:])\n",
    "#     date_ = ' '.join([year, month])\n",
    "#     date_ = datetime.strptime(date_, '%Y %m')\n",
    "#     delta = datetime.now() - date_\n",
    "#     delta = delta.days\n",
    "#     return(delta)"
   ]
  },
  {
   "cell_type": "code",
   "execution_count": 4,
   "metadata": {},
   "outputs": [
    {
     "name": "stdout",
     "output_type": "stream",
     "text": [
      "2016\n",
      "01\n",
      "2016 01\n",
      "2016-01-01 00:00:00\n"
     ]
    }
   ],
   "source": [
    "# date = str(201601)\n",
    "# year = date[0:4]\n",
    "# print(year)\n",
    "# month = str(date[4:])\n",
    "# print(month)\n",
    "# date_ = ' '.join([year, month])\n",
    "# print(date_)\n",
    "# date_ = datetime.strptime(date_, '%Y %m')\n",
    "# print(date_)"
   ]
  },
  {
   "cell_type": "code",
   "execution_count": 28,
   "metadata": {},
   "outputs": [],
   "source": [
    "def csf(state):\n",
    "    \n",
    "    '''maps for competitive state fund'''\n",
    "    \n",
    "    csf = ['AZ', 'CA', 'CO', \n",
    "       'HI', 'ID', 'KY', 'LA', 'ME',\n",
    "       'MD', 'MN', 'MO', 'MT', 'NM', 'WA', \n",
    "       'NY', 'OK', 'OR', 'PA', 'RI', 'TX', 'UT'] \n",
    "\n",
    "    if state in csf:\n",
    "        state = '1'\n",
    "    else:\n",
    "        state = '0'\n",
    "    return(state)    \n",
    "   \n"
   ]
  },
  {
   "cell_type": "code",
   "execution_count": 30,
   "metadata": {},
   "outputs": [],
   "source": [
    "'''Region dictionary for mapping'''\n",
    "\n",
    "region = {'AK': 'western', 'AZ': 'western', 'CO': 'western', 'ID': 'western', 'MT': 'western',\n",
    "          'NM': 'western','NV': 'western', 'OR': 'western', 'UT': 'western', 'WA': 'western', \n",
    "          'WY': 'western', \n",
    "          \n",
    "          'IL': 'central', 'IN': 'central', 'IA': 'central', 'KY': 'central', \n",
    "          'MI': 'central', 'MN': 'central', 'NE': 'central', 'ND': 'central', 'OH': 'central', \n",
    "          'SD': 'central', 'WI': 'central',\n",
    "          \n",
    "          'AL': 'southern', 'FL': 'southern', 'GA': 'southern', \n",
    "          'MS': 'southern', 'NC': 'southern', 'SC': 'southern', 'TN': 'southern',\n",
    "          \n",
    "          'CT': 'northeast', 'MA': 'northeast',  'ME': 'northeast',  'NH': 'northeast',  \n",
    "          'NY': 'northeast',  'RI': 'northeast',  'VT': 'northeast', \n",
    "         \n",
    "          'DC': 'mid atlantic', 'DE': 'mid atlantic', 'MD': 'mid atlantic', 'NJ': 'mid atlantic', \n",
    "          'PA': 'mid atlantic', 'VA': 'mid atlantic', 'WV': 'mid atlantic',\n",
    "         \n",
    "          'AR': 'south central', 'KS': 'south central', 'LA': 'south central', 'MO': 'south central', \n",
    "          'OK': 'south central', 'TX': 'south central'}"
   ]
  },
  {
   "cell_type": "code",
   "execution_count": 31,
   "metadata": {},
   "outputs": [],
   "source": [
    "def market_sh(state):\n",
    "    \n",
    "    '''market share for states with competitve state funds'''\n",
    "    \n",
    "    high = ['CO', 'ID', 'MT', 'RI', 'ME', 'OR', 'UT'] #  > 50%\n",
    "    med = ['HI', 'KY', 'NM', 'NY', 'OK', 'TX']  # > 25%\n",
    "    low = ['CA', 'MN', 'PA', 'AZ', 'LA', 'MD', 'MO']  # > 0\n",
    "    \n",
    "    if state in high:\n",
    "        state = 'high'\n",
    "    elif state in med:\n",
    "        state = 'med'\n",
    "    elif state in low:\n",
    "        state = 'low'\n",
    "    else:\n",
    "        state = 'none'\n",
    "    return(state)"
   ]
  },
  {
   "cell_type": "code",
   "execution_count": 32,
   "metadata": {},
   "outputs": [],
   "source": [
    "def div(state):\n",
    "    \n",
    "    '''Div buckets for states with competitive state funds'''\n",
    "    \n",
    "    high = ['LA', 'MT', 'OR', 'TX'] #  > 18%\n",
    "    med = ['CO', 'ME', 'NY', 'UT']  # > 5%\n",
    "    low = ['AZ', 'CA', 'HI', 'ID', 'MD', 'MN', 'MO', 'RI']  # > 0\n",
    "    \n",
    "    if state in high:\n",
    "        state = 'high'\n",
    "    elif state in med:\n",
    "        state = 'med'\n",
    "    elif state in low:\n",
    "        state = 'low'\n",
    "    else:\n",
    "        state = 'none'\n",
    "    return(state)"
   ]
  },
  {
   "cell_type": "code",
   "execution_count": null,
   "metadata": {},
   "outputs": [],
   "source": [
    "def delta(string, period):\n",
    "    \n",
    "    ''' The following is needed before running this:\n",
    "    \n",
    "        pol_life =  pd.concat([df['Effective YearMonth'].apply(lambda x: str(x)), \n",
    "                   df['renew'], df['tenure'].apply(lambda x: str(x)),\n",
    "                   ], axis=1)\n",
    "                   \n",
    "        pol_life = pol_life.apply(lambda x: ' '.join(x), axis=1) \n",
    "        period = datetime(year=2018, month=7, day=1) \n",
    "        \n",
    "        nan are good in this output. The function grabs the most recent renewal for a \n",
    "        certain line account and nans the other ones.'''\n",
    "    \n",
    "    eff = datetime.strptime(string.split()[0],'%Y%m')\n",
    "    tenure = int(float(string.split()[2]))\n",
    "    \n",
    "    while string.split()[1] == 'Renew' and eff > period.replace(year=int(period.year - 1)):\n",
    "        \n",
    "        '''Take it back two years. Most of the violaters have more tenure.\n",
    "        Renews with tenure = 1 are over 1 year in lifetime. The nans are a good thing. \n",
    "        They are the prior renewals on the same policy'''\n",
    "            \n",
    "        for i in range(1, 32):\n",
    "            #print(i)\n",
    "            # start with tenure 2\n",
    "\n",
    "            if tenure == i:\n",
    "                delta = period - eff\n",
    "                days = delta.days + 365*i\n",
    "                return(days)\n",
    "            else:\n",
    "                continue                \n",
    "\n",
    "        break\n",
    "        \n",
    "    while string.split()[1] == 'New':\n",
    "        \n",
    "        if eff >= period.replace(year=int(period.year - 1)):\n",
    "            delta = period - eff\n",
    "            days = delta.days\n",
    "            return(days)\n",
    "    \n",
    "        else: \n",
    "            days = 'remove'\n",
    "            return(days)\n",
    "        break\n",
    " \n",
    "\n",
    "    while string.split()[1] == 'Non-Renew':\n",
    "        \n",
    "        days = tenure*365\n",
    "        return(days)\n",
    "        break\n",
    "\n",
    "\n",
    "\n",
    "           "
   ]
  },
  {
   "cell_type": "markdown",
   "metadata": {},
   "source": [
    "## Works in Progress"
   ]
  },
  {
   "cell_type": "code",
   "execution_count": 155,
   "metadata": {},
   "outputs": [],
   "source": [
    "df = data[data['New-Renew Ind'] != 'New']\n",
    "df.reset_index(drop=True, inplace=True)"
   ]
  },
  {
   "cell_type": "code",
   "execution_count": null,
   "metadata": {},
   "outputs": [],
   "source": [
    "import re\n",
    "\n",
    "p = re.compile(\"^.*Quintile.*$\")\n",
    "names = df.columns\n",
    "x = [name for name in names if p.match(name)]\n",
    "print(x)\n",
    "#x.append('Exposure/Accident Year')\n",
    "df[x].head(2)\n",
    "\n",
    "(df['Quintile at Renewal'].value_counts())\n",
    "\n",
    "test = df = df[df['New-Renew Ind'] != 'Renew']\n",
    "test['Quintile at Renewal'].value_counts()"
   ]
  },
  {
   "cell_type": "code",
   "execution_count": 197,
   "metadata": {},
   "outputs": [],
   "source": [
    "comp =  pd.concat([df['Effective YearMonth'].apply(lambda x: str(x)), \n",
    "                   df['New-Renew Ind'], ], axis=1)\n",
    "comp = comp.apply(lambda x: ' '.join(x), axis=1) "
   ]
  },
  {
   "cell_type": "code",
   "execution_count": 198,
   "metadata": {},
   "outputs": [],
   "source": [
    "def delta(string):\n",
    "    \n",
    "    '''this takes in the joined date and target'''\n",
    "    \n",
    "    if string.split()[1] == 'Non-Renew':\n",
    "        start_date = string.split()[0]\n",
    "        end_date = datetime(2018, 5, 1)\n",
    "        start_date = datetime.strptime(start_date,'%Y%m') \n",
    "        delta = end_date - start_date\n",
    "        days = delta.days\n",
    "        if days >= 365 and days < 730:\n",
    "            days = 365\n",
    "        elif days >= 730:\n",
    "            days = 730\n",
    "            \n",
    "        else:\n",
    "            days = delta.days\n",
    "        \n",
    "        return days\n",
    "    \n",
    "    else:\n",
    "        start_date = string.split()[0]\n",
    "        start_date = datetime.strptime(start_date,'%Y%m') \n",
    "        delta = datetime.now() - start_date\n",
    "        days = delta.days\n",
    "        return days\n",
    "\n",
    "    \n",
    "    "
   ]
  },
  {
   "cell_type": "code",
   "execution_count": null,
   "metadata": {},
   "outputs": [],
   "source": [
    "def delta(string, period):\n",
    "    \n",
    "    '''only run this to tenure = 4 then use \n",
    "    This is for client lifecyle'''\n",
    "    \n",
    "    eff = datetime.strptime(string.split()[0],'%Y%m')\n",
    "    tenure = int(float(string.split()[2]))\n",
    "    while string.split()[1] == 'Renew':\n",
    "        # for tenure = 1\n",
    "        \n",
    "        for i in range(1, 40):\n",
    "            print(i)\n",
    "            # start with tenure 2\n",
    "            if tenure == i:\n",
    "                if eff >  period.replace(year=int(period.year - 3)) and \\\n",
    "                eff <  period.replace(year=int(period.year - 2)):\n",
    "                        # eff between 2 and 3 years\n",
    "\n",
    "                    delta = period - eff\n",
    "                    days = delta.days + 365*(i-2)\n",
    "                    #return(days)  \n",
    "\n",
    "                elif eff >  period.replace(year=int(period.year - 2)) and \\\n",
    "                eff <  period.replace(year=int(period.year - 1)):\n",
    "                        # eff between 1 and 2 years\n",
    "\n",
    "                    delta = period - eff\n",
    "                    days = delta.days + 365*(i-1)\n",
    "                    #return(days)                           \n",
    "\n",
    "\n",
    "                elif eff >  period.replace(year=int(period.year - 1)):\n",
    "                        # eff less than a year \n",
    "                    if i == 1:                        \n",
    "                        # there is no tenure = 0, so this is necessary\n",
    "                        delta = period - eff\n",
    "                        days = delta.days \n",
    "                    else: \n",
    "                        delta = period - eff\n",
    "                        days = delta.days + 365*i\n",
    "\n",
    "                else:               \n",
    "                #There is a mistake. multiply tenure by 365\n",
    "                    delta = period - eff\n",
    "                    days = 365*i \n",
    "                    \n",
    "                return(days)\n",
    "        break\n",
    "\n",
    "    while string.split()[1] == 'Non-Renew':\n",
    "        return('yeah')\n",
    "        break\n",
    "\n",
    "        "
   ]
  },
  {
   "cell_type": "code",
   "execution_count": null,
   "metadata": {},
   "outputs": [],
   "source": [
    "def clean_ch(string):\n",
    "    \n",
    "    for ch in ['>','<', '+']:\n",
    "        if ch in string:\n",
    "            string=string.replace(ch,'')\n",
    "            return string\n"
   ]
  },
  {
   "cell_type": "markdown",
   "metadata": {},
   "source": [
    "### Lost dreams.........."
   ]
  },
  {
   "cell_type": "code",
   "execution_count": null,
   "metadata": {},
   "outputs": [],
   "source": [
    "def func1(string):\n",
    "    try:\n",
    "        \n",
    "        if len(string.split('/')) == 3:\n",
    "            date = string\n",
    "        else:\n",
    "            date = 'missing'\n",
    "        return date\n",
    "    \n",
    "    except:\n",
    "        AttributeError\n",
    "        date = 'missing'\n",
    "        return date\n"
   ]
  },
  {
   "cell_type": "code",
   "execution_count": null,
   "metadata": {},
   "outputs": [],
   "source": [
    "def end_dt(string, period):\n",
    "    \n",
    "    '''period is the end of the time period entered as \n",
    "    datetime. For example: datetime(year=2018, month=5, day=15)'''\n",
    "    \n",
    "    if string.split()[1] == 'Non-Renew' and float(string.split()[2]) == 1: \n",
    "       \n",
    "        start_dt = string.split()[0]   \n",
    "        start_dt = datetime.strptime(start_dt,'%Y%m') \n",
    "        if start_dt > period.replace(year=int(period.year - 1):\n",
    "                                     delta = period - start_dt\n",
    "                                     days = delta.days\n",
    "                                     \n",
    "        end_dt = start_dt.replace(year=int(start_dt.year + tenure))\n",
    "        #delta = end_date - start_date\n",
    "        tenure = float(string.split()[2])\n",
    "        \n",
    "    elif: \n",
    "        string.split()[1] == 'Non-Renew' and float(string.split()[2]) > 1:\n",
    "    else:\n",
    "        end_dt = period\n",
    "        \n",
    "    return end_dt\n",
    "    "
   ]
  },
  {
   "cell_type": "code",
   "execution_count": null,
   "metadata": {},
   "outputs": [],
   "source": [
    "df['end_dt'] = string_col.apply(lambda x: end_dt(x, period))\n",
    "df['eff_dt'] = df['Effective YearMonth'].apply(lambda x: datetime.strptime(str(x), '%Y%m'))\n",
    "\n",
    "df['delta'] = (df['end_dt'] - df['eff_dt']).apply(lambda x: x.days)"
   ]
  },
  {
   "cell_type": "code",
   "execution_count": null,
   "metadata": {},
   "outputs": [],
   "source": [
    "def foo(dframe):\n",
    "    \n",
    "    dframe['foo'] = dframe.apply(lambda _: '', axis=1)\n",
    "    dframe['current_effective'] = dframe.apply(lambda _: '', axis=1)\n",
    "    \n",
    "    for i in range(0, dframe.shape[0]-1):\n",
    "        if dframe.SAI[i] == dframe.SAI[i+1] and df.Line[i] == df.Line[i+i] and df.renew[i] == df.renew[i+1]:\n",
    "            dframe.current_effective[i] = max(dframe.eff_dt[i], (dframe.eff_dt[i+1]))\n",
    "            dframe.current_effective[i+1] = max(dframe.eff_dt[i], (dframe.eff_dt[i+1]))\n",
    "            status ='yes'\n",
    "            dframe['foo'][i] = status\n",
    "            dframe['foo'][i+1] = status\n",
    "            \n",
    "        else:\n",
    "            dframe.current_effective[i] = dframe.eff_dt[i]\n",
    "            status ='no'\n",
    "            dframe['foo'][i] = status\n",
    "            dframe['foo'][i+1] = status\n",
    "            \n",
    "    return dframe\n",
    "    \n",
    "            "
   ]
  },
  {
   "cell_type": "code",
   "execution_count": null,
   "metadata": {},
   "outputs": [],
   "source": [
    "def delta(string, period):\n",
    "    \n",
    "    '''only run this to tenure = 4 then use \n",
    "    This is for client lifecyle'''\n",
    "    \n",
    "    eff = datetime.strptime(string.split()[0],'%Y%m')\n",
    "    tenure = int(float(string.split()[2]))\n",
    "    while string.split()[1] == 'Renew':\n",
    "        # for tenure = 1\n",
    "        \n",
    "        for i in range(1, 40):\n",
    "            print(i)\n",
    "            # start with tenure 2\n",
    "            if tenure == i:\n",
    "                if eff >  period.replace(year=int(period.year - 3)) and \\\n",
    "                eff <  period.replace(year=int(period.year - 2)):\n",
    "                        # eff between 2 and 3 years\n",
    "\n",
    "                    delta = period - eff\n",
    "                    days = delta.days + 365*(i-2)\n",
    "                    #return(days)  \n",
    "\n",
    "                elif eff >  period.replace(year=int(period.year - 2)) and \\\n",
    "                eff <  period.replace(year=int(period.year - 1)):\n",
    "                        # eff between 1 and 2 years\n",
    "\n",
    "                    delta = period - eff\n",
    "                    days = delta.days + 365*(i-1)\n",
    "                    #return(days)                           \n",
    "\n",
    "\n",
    "                elif eff >  period.replace(year=int(period.year - 1)):\n",
    "                        # eff less than a year \n",
    "                    if i == 1:                        \n",
    "                        # there is no tenure = 0, so this is necessary\n",
    "                        delta = period - eff\n",
    "                        days = delta.days \n",
    "                    else: \n",
    "                        delta = period - eff\n",
    "                        days = delta.days + 365*i\n",
    "\n",
    "                else:               \n",
    "                #There is a mistake. multiply tenure by 365\n",
    "                    delta = period - eff\n",
    "                    days = 365*i \n",
    "                    \n",
    "                return(days)\n",
    "        break\n",
    "        \n",
    "    while string.split()[1] == 'Non-Renew':\n",
    "        return('yeah')\n",
    "        break\n",
    "        \n",
    "                    "
   ]
  },
  {
   "cell_type": "code",
   "execution_count": null,
   "metadata": {},
   "outputs": [],
   "source": []
  }
 ],
 "metadata": {
  "kernelspec": {
   "display_name": "Python 3",
   "language": "python",
   "name": "python3"
  },
  "language_info": {
   "codemirror_mode": {
    "name": "ipython",
    "version": 3
   },
   "file_extension": ".py",
   "mimetype": "text/x-python",
   "name": "python",
   "nbconvert_exporter": "python",
   "pygments_lexer": "ipython3",
   "version": "3.5.5"
  }
 },
 "nbformat": 4,
 "nbformat_minor": 2
}
